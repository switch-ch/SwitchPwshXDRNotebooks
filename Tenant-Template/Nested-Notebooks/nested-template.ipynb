{
 "cells": [
  {
   "cell_type": "markdown",
   "metadata": {},
   "source": [
    "# <font style=\"color: red\">DO NOT RUN THIS</font>\n",
    "\n",
    "## <font style=\"color: Blue\">THIS IS A NESTED NOTEBOOK</font>"
   ]
  },
  {
   "cell_type": "markdown",
   "metadata": {},
   "source": [
    "# Anomalous Token involving one user (Student only)"
   ]
  },
  {
   "cell_type": "markdown",
   "metadata": {},
   "source": [
    "> Need to update incTitle in next code block"
   ]
  },
  {
   "cell_type": "code",
   "execution_count": null,
   "metadata": {
    "dotnet_interactive": {
     "language": "pwsh"
    },
    "polyglot_notebook": {
     "kernelName": "pwsh"
    }
   },
   "outputs": [],
   "source": [
    "$anons = $arr | ConvertFrom-Json | %{$_} | Where-Object { $_.incTitle -eq 'Anomalous Token involving one user'}\n",
    "$anons | Format-Table dUPN, dAccountType, incId, incTitle"
   ]
  },
  {
   "cell_type": "markdown",
   "metadata": {},
   "source": [
    "> optionally we can change the parameters used for closing the incident"
   ]
  },
  {
   "cell_type": "code",
   "execution_count": null,
   "metadata": {
    "dotnet_interactive": {
     "language": "pwsh"
    },
    "polyglot_notebook": {
     "kernelName": "pwsh"
    }
   },
   "outputs": [],
   "source": [
    "$anons | Where-Object { $_.dAccountType -eq 'Student' } | ForEach-Object {\n",
    "    $params = @{\n",
    "    \t#classification = \"falsePositive\"\n",
    "    \t#determination = \"other\"\n",
    "        status = \"resolved\"\n",
    "        ResolvingComment = \"Excluded, student\"\n",
    "        assignedTo = $me.mail\n",
    "    }\n",
    "\n",
    "    $null = Update-MgSecurityIncident -IncidentId $_.incId -BodyParameter $params\n",
    "}"
   ]
  }
 ],
 "metadata": {
  "kernelspec": {
   "display_name": ".NET (C#)",
   "language": "C#",
   "name": ".net-csharp"
  },
  "language_info": {
   "name": "polyglot-notebook"
  },
  "polyglot_notebook": {
   "kernelInfo": {
    "defaultKernelName": "csharp",
    "items": [
     {
      "aliases": [],
      "name": "csharp"
     }
    ]
   }
  }
 },
 "nbformat": 4,
 "nbformat_minor": 2
}
