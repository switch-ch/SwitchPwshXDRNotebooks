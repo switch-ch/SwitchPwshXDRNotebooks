{
 "cells": [
  {
   "cell_type": "markdown",
   "metadata": {},
   "source": [
    "# Environment Configurator\n",
    "\n",
    "The purpose of this notebook is to ensure we have a standardized base configuration.\n",
    "\n",
    "This notebook can be used to download the required PowerShell modules."
   ]
  },
  {
   "cell_type": "code",
   "execution_count": null,
   "metadata": {
    "dotnet_interactive": {
     "language": "pwsh"
    },
    "polyglot_notebook": {
     "kernelName": "pwsh"
    }
   },
   "outputs": [],
   "source": [
    "# Review the working folder path\n",
    "$pwd\n",
    "\n",
    "# Review the PPROFILE path (the PROFILE is executed every time a Notebook is loaded)\n",
    "$PROFILE.CurrentUserCurrentHost"
   ]
  },
  {
   "cell_type": "markdown",
   "metadata": {},
   "source": [
    "## Modules to be downloaded"
   ]
  },
  {
   "cell_type": "code",
   "execution_count": null,
   "metadata": {
    "dotnet_interactive": {
     "language": "pwsh"
    },
    "polyglot_notebook": {
     "kernelName": "pwsh"
    }
   },
   "outputs": [],
   "source": [
    "# calculate the path to the Modules folder in the current project folder where the notebook is located\n",
    "$modulePath = Join-Path $pwd \"Modules\"\n",
    "\n",
    "$requiredModules = @(\n",
    "    'PowerShellNotebook',\n",
    "    'Microsoft.Graph.Authentication',\n",
    "    'Microsoft.Graph.Users',\n",
    "    'Microsoft.Graph.Groups',\n",
    "    'Microsoft.Graph.Applications',\n",
    "    'Microsoft.Graph.DeviceManagement',\n",
    "    'Microsoft.Graph.Security'\n",
    ")\n",
    "\n",
    "$modules = Find-Module -Name $requiredModules -ErrorAction SilentlyContinue\n",
    "\n",
    "foreach ($module in $modules) {\n",
    "    Write-Host \"Checking $($module.name)\"\n",
    "    $path = Join-Path $pwd 'Modules' $module.name $module.version\n",
    "    write-Host $path\n",
    "    if (Test-Path $path) {\n",
    "        Write-Host \"$($module.name) has latest version`n\"\n",
    "    }\n",
    "    else {\n",
    "        Save-Module $module.name -path $modulePath -Force\n",
    "        Write-Host \"$($module.name) was saved`n\"\n",
    "    }\n",
    "}\n"
   ]
  },
  {
   "cell_type": "markdown",
   "metadata": {},
   "source": [
    "## PROFILE content enforcement"
   ]
  },
  {
   "cell_type": "code",
   "execution_count": null,
   "metadata": {
    "polyglot_notebook": {
     "kernelName": "pwsh"
    }
   },
   "outputs": [],
   "source": [
    "# drop the signed profile into the current user's profile folder\n",
    "\n",
    "Copy-Item -Path \"$pwd\\$(Split-Path $PROFILE.CurrentUserCurrentHost -Leaf)\" -Destination $PROFILE.CurrentUserCurrentHost -Force"
   ]
  },
  {
   "cell_type": "code",
   "execution_count": null,
   "metadata": {
    "dotnet_interactive": {
     "language": "pwsh"
    },
    "polyglot_notebook": {
     "kernelName": "pwsh"
    }
   },
   "outputs": [],
   "source": [
    "# checking the content of the PROFILE file\n",
    "\n",
    "Get-Content $PROFILE.CurrentUserCurrentHost # | select -First 20"
   ]
  }
 ],
 "metadata": {
  "kernelspec": {
   "display_name": ".NET (C#)",
   "language": "C#",
   "name": ".net-csharp"
  },
  "language_info": {
   "name": "polyglot-notebook"
  },
  "polyglot_notebook": {
   "kernelInfo": {
    "defaultKernelName": "csharp",
    "items": [
     {
      "aliases": [],
      "name": "csharp"
     }
    ]
   }
  }
 },
 "nbformat": 4,
 "nbformat_minor": 2
}
