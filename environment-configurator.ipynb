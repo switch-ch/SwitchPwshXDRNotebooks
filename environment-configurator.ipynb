{
 "cells": [
  {
   "cell_type": "markdown",
   "metadata": {},
   "source": [
    "# Environment Configurator\n",
    "\n",
    "The purpose of this notebook is to ensure we have a standardized base configuration.\n",
    "\n",
    "This notebook can be used to download the required PowerShell modules."
   ]
  },
  {
   "cell_type": "code",
   "execution_count": 9,
   "metadata": {
    "dotnet_interactive": {
     "language": "pwsh"
    },
    "polyglot_notebook": {
     "kernelName": "pwsh"
    },
    "vscode": {
     "languageId": "polyglot-notebook"
    }
   },
   "outputs": [
    {
     "name": "stdout",
     "output_type": "stream",
     "text": [
      "\n",
      "\u001b[32;1mPath\u001b[0m\n",
      "\u001b[32;1m----\u001b[0m\n",
      "/Users/sass/Source/SwitchPwshXDRNotebooks\n",
      "/Users/sass/.config/powershell/Microsoft.dotnet-interactive_profile.ps1\n",
      "/Users/sass/Source/SwitchPwshXDRNotebooks/Modules\n",
      "/Users/sass/.local/share/powershell/Modules\n",
      "/Users/sass/.nuget/packages/microsoft.dotnet-interactive/1.0.617701/tools/net9.0/any/Modules\n",
      "/Users/sass/.nuget/packages/microsoft.dotnet-interactive/1.0.617701/tools/net9.0/any/runtimes/unix/lib/net8.0/Modules\n",
      "/Users/sass/Source/SwitchPwshXDRNotebooks/Modules\n",
      "/usr/local/share/powershell/Modules\n",
      "\n"
     ]
    }
   ],
   "source": [
    "# Review the working folder path\n",
    "$pwd\n",
    "\n",
    "# Review the PPROFILE path (the PROFILE is executed every time a Notebook is loaded)\n",
    "$PROFILE.CurrentUserCurrentHost\n",
    "\n",
    "$env:PSModulePath.Split([System.IO.Path]::PathSeparator)"
   ]
  },
  {
   "cell_type": "markdown",
   "metadata": {},
   "source": [
    "## Code to be added to your profile\n",
    "\n",
    "**DO NOT MODIFY THIS**"
   ]
  },
  {
   "cell_type": "code",
   "execution_count": 6,
   "metadata": {
    "dotnet_interactive": {
     "language": "pwsh"
    },
    "polyglot_notebook": {
     "kernelName": "pwsh"
    },
    "vscode": {
     "languageId": "polyglot-notebook"
    }
   },
   "outputs": [
    {
     "name": "stdout",
     "output_type": "stream",
     "text": [
      "\u001b[93mVERBOSE: Checking /Users/sass/Source/SwitchPwshXDRNotebooks/Modules\u001b[0m\n",
      "\u001b[93mVERBOSE: Checking /Users/sass/Source/SwitchPwshXDRNotebooks\u001b[0m\n",
      "Project root: /Users/sass/Source/SwitchPwshXDRNotebooks\n"
     ]
    }
   ],
   "source": [
    "# calculate the path to the Modules folder in the current project folder where the notebook is located\n",
    "$modulePath = Join-Path $pwd \"Modules\"\n",
    "\n",
    "function findGitignore {\n",
    "    # this function will try to locate the .gitignore file in the current folder or any parent folder\n",
    "    [CmdletBinding()]\n",
    "    param (\n",
    "        [Parameter(Mandatory=$true)]\n",
    "        [ValidateNotNullOrEmpty()]\n",
    "        [string]$path\n",
    "    )\n",
    "    Write-Verbose \"Checking $path\"\n",
    "    if ( Get-ChildItem $path \".gitignore\" -Force -ErrorAction SilentlyContinue ) {\n",
    "        $error.Clear()\n",
    "        return $path\n",
    "    } else {\n",
    "        findGitignore $(Split-Path $path)\n",
    "    }\n",
    "}\n",
    "\n",
    "# checking that the .gitignore file exists in the current folder or any parent folder\n",
    "try { $projectRoot = findGitignore -path $modulePath -Verbose } catch {}\n",
    "Write-Host \"Project root: $projectRoot\"\n",
    "\n",
    "# if the .gitignore file is found, then add the Modules folder to the PSModulePath\n",
    "if ($null -ne $projectRoot) {\n",
    "    $modulePath = Join-Path $projectRoot \"Modules\"\n",
    "    # create the Modules folder if it does not exist\n",
    "    if (-not (Test-Path -Path $modulePath)) {\n",
    "        New-Item -Path $modulePath -ItemType Directory -Force | Out-Null\n",
    "    }\n",
    "    # and we will also remove any duplicates and OneDrive paths\n",
    "    $env:PSModulePath = ($env:PSModulePath.Split([System.IO.Path]::PathSeparator) | Sort-Object -Unique | Where-Object {-not $_.Contains(\"OneDrive\")}) -join [System.IO.Path]::PathSeparator\n",
    "    \n",
    "    # Add the $modulePath folder to the PSModulePath\n",
    "    # we will add it to the front of the PSModulePath so that it will have priority over any other modules with the same name\n",
    "    # this is useful for development purposes, so that we can test the modules without having to\n",
    "    # install them globally or in the user profile\n",
    "    $env:PSModulePath = \"$modulePath$([System.IO.Path]::PathSeparator)$env:PSModulePath\"\n",
    "}\n",
    "\n",
    "# setting the default value for the Connect-MgGraph:ContextScope parameter to 'Process' so Notebooks won't share the same context\n",
    "$PSDefaultParameterValues[\"Connect-MgGraph:ContextScope\"] = 'Process'"
   ]
  },
  {
   "cell_type": "markdown",
   "metadata": {},
   "source": [
    "## Modules to be downloaded"
   ]
  },
  {
   "cell_type": "code",
   "execution_count": 10,
   "metadata": {
    "dotnet_interactive": {
     "language": "pwsh"
    },
    "polyglot_notebook": {
     "kernelName": "pwsh"
    },
    "vscode": {
     "languageId": "polyglot-notebook"
    }
   },
   "outputs": [
    {
     "name": "stdout",
     "output_type": "stream",
     "text": [
      "7\n"
     ]
    },
    {
     "ename": "Error",
     "evalue": "Access to the path '/usr/local/share/powershell' is denied.\nAccess to the path '/usr/local/share/powershell' is denied.",
     "output_type": "error",
     "traceback": [
      "Access to the path '/usr/local/share/powershell' is denied.\n",
      "Access to the path '/usr/local/share/powershell' is denied."
     ]
    }
   ],
   "source": [
    "$requiredModules = @(\n",
    "    'PowerShellNotebook',\n",
    "    'Microsoft.Graph.Authentication',\n",
    "    'Microsoft.Graph.Users',\n",
    "    'Microsoft.Graph.Groups',\n",
    "    'Microsoft.Graph.Applications',\n",
    "    'Microsoft.Graph.DeviceManagement',\n",
    "    'Microsoft.Graph.Security'\n",
    ")\n",
    "\n",
    "$modules = Find-Module -Name $requiredModules -ErrorAction SilentlyContinue\n",
    "$modules.count\n",
    "#Save-Module $requiredModules -path $modulePath -Force"
   ]
  },
  {
   "cell_type": "markdown",
   "metadata": {},
   "source": [
    "## PROFILE content enforcement"
   ]
  },
  {
   "cell_type": "code",
   "execution_count": 8,
   "metadata": {
    "polyglot_notebook": {
     "kernelName": "pwsh"
    },
    "vscode": {
     "languageId": "polyglot-notebook"
    }
   },
   "outputs": [
    {
     "data": {
      "text/plain": []
     },
     "metadata": {},
     "output_type": "display_data"
    }
   ],
   "source": [
    "# drop the signed profile into the current user's profile folder\n",
    "\n",
    "Copy-Item -Path \"$pwd\\$(Split-Path $PROFILE.CurrentUserCurrentHost -Leaf)\" -Destination $PROFILE.CurrentUserCurrentHost -Force"
   ]
  },
  {
   "cell_type": "code",
   "execution_count": 11,
   "metadata": {
    "dotnet_interactive": {
     "language": "pwsh"
    },
    "polyglot_notebook": {
     "kernelName": "pwsh"
    },
    "vscode": {
     "languageId": "polyglot-notebook"
    }
   },
   "outputs": [
    {
     "name": "stdout",
     "output_type": "stream",
     "text": [
      "# calculate the path to the Modules folder in the current project folder where the notebook is located\n",
      "$modulePath = Join-Path $pwd \"Modules\"\n",
      "\n",
      "function findGitignore {\n",
      "    # this function will try to locate the .gitignore file in the current folder or any parent folder\n",
      "    [CmdletBinding()]\n",
      "    param (\n",
      "        [Parameter(Mandatory=$true)]\n",
      "        [ValidateNotNullOrEmpty()]\n",
      "        [string]$path\n",
      "    )\n",
      "    Write-Verbose \"Checking $path\"\n",
      "    if ( Get-ChildItem $path \".gitignore\" -Force -ErrorAction SilentlyContinue ) {\n",
      "        $error.Clear()\n",
      "        return $path\n",
      "    } else {\n",
      "        findGitignore $(Split-Path $path)\n",
      "    }\n",
      "}\n",
      "\n",
      "# checking that the .gitignore file exists in the current folder or any parent folder\n",
      "try { $projectRoot = findGitignore -path $modulePath -Verbose } catch {}\n",
      "Write-Host \"Project root: $projectRoot\"\n",
      "\n",
      "# if the .gitignore file is found, then add the Modules folder to the PSModulePath\n",
      "if ($null -ne $projectRoot) {\n",
      "    $modulePath = Join-Path $projectRoot \"Modules\"\n",
      "    # create the Modules folder if it does not exist\n",
      "    if (-not (Test-Path -Path $modulePath)) {\n",
      "        New-Item -Path $modulePath -ItemType Directory -Force | Out-Null\n",
      "    }\n",
      "    # and we will also remove any duplicates and OneDrive paths\n",
      "    $env:PSModulePath = ($env:PSModulePath.Split([System.IO.Path]::PathSeparator) | Sort-Object -Unique | Where-Object {-not $_.Contains(\"OneDrive\")}) -join [System.IO.Path]::PathSeparator\n",
      "    \n",
      "    # Add the $modulePath folder to the PSModulePath\n",
      "    # we will add it to the front of the PSModulePath so that it will have priority over any other modules with the same name\n",
      "    # this is useful for development purposes, so that we can test the modules without having to\n",
      "    # install them globally or in the user profile\n",
      "    $env:PSModulePath = \"$modulePath$([System.IO.Path]::PathSeparator)$env:PSModulePath\"\n",
      "}\n",
      "\n",
      "# setting the default value for the Connect-MgGraph:ContextScope parameter to 'Process' so Notebooks won't share the same context\n",
      "$PSDefaultParameterValues[\"Connect-MgGraph:ContextScope\"] = 'Process'\n",
      "# SIG # Begin signature block\n",
      "# MIISDwYJKoZIhvcNAQcCoIISADCCEfwCAQMxDTALBglghkgBZQMEAgEwewYKKwYB\n",
      "# BAGCNwIBBKBtBGswaTA0BgorBgEEAYI3AgEeMCYCAwEAAAQQH8w7YFlLCE63JNLG\n",
      "# KX7zUQIBAAIBAAIBAAIBAAIBADAxMA0GCWCGSAFlAwQCAQUABCDPhi/bd4eg5gaI\n",
      "# oJYblSyvsSgSfm2b2q+EJtuLiyjv06CCDkMwggawMIIEmKADAgECAhAIrUCyYNKc\n",
      "# TJ9ezam9k67ZMA0GCSqGSIb3DQEBDAUAMGIxCzAJBgNVBAYTAlVTMRUwEwYDVQQK\n",
      "# EwxEaWdpQ2VydCBJbmMxGTAXBgNVBAsTEHd3dy5kaWdpY2VydC5jb20xITAfBgNV\n",
      "# BAMTGERpZ2lDZXJ0IFRydXN0ZWQgUm9vdCBHNDAeFw0yMTA0MjkwMDAwMDBaFw0z\n",
      "# NjA0MjgyMzU5NTlaMGkxCzAJBgNVBAYTAlVTMRcwFQYDVQQKEw5EaWdpQ2VydCwg\n",
      "# SW5jLjFBMD8GA1UEAxM4RGlnaUNlcnQgVHJ1c3RlZCBHNCBDb2RlIFNpZ25pbmcg\n",
      "# UlNBNDA5NiBTSEEzODQgMjAyMSBDQTEwggIiMA0GCSqGSIb3DQEBAQUAA4ICDwAw\n",
      "# ggIKAoICAQDVtC9C0CiteLdd1TlZG7GIQvUzjOs9gZdwxbvEhSYwn6SOaNhc9es0\n",
      "# JAfhS0/TeEP0F9ce2vnS1WcaUk8OoVf8iJnBkcyBAz5NcCRks43iCH00fUyAVxJr\n",
      "# Q5qZ8sU7H/Lvy0daE6ZMswEgJfMQ04uy+wjwiuCdCcBlp/qYgEk1hz1RGeiQIXhF\n",
      "# LqGfLOEYwhrMxe6TSXBCMo/7xuoc82VokaJNTIIRSFJo3hC9FFdd6BgTZcV/sk+F\n",
      "# LEikVoQ11vkunKoAFdE3/hoGlMJ8yOobMubKwvSnowMOdKWvObarYBLj6Na59zHh\n",
      "# 3K3kGKDYwSNHR7OhD26jq22YBoMbt2pnLdK9RBqSEIGPsDsJ18ebMlrC/2pgVItJ\n",
      "# wZPt4bRc4G/rJvmM1bL5OBDm6s6R9b7T+2+TYTRcvJNFKIM2KmYoX7BzzosmJQay\n",
      "# g9Rc9hUZTO1i4F4z8ujo7AqnsAMrkbI2eb73rQgedaZlzLvjSFDzd5Ea/ttQokbI\n",
      "# YViY9XwCFjyDKK05huzUtw1T0PhH5nUwjewwk3YUpltLXXRhTT8SkXbev1jLchAp\n",
      "# QfDVxW0mdmgRQRNYmtwmKwH0iU1Z23jPgUo+QEdfyYFQc4UQIyFZYIpkVMHMIRro\n",
      "# OBl8ZhzNeDhFMJlP/2NPTLuqDQhTQXxYPUez+rbsjDIJAsxsPAxWEQIDAQABo4IB\n",
      "# WTCCAVUwEgYDVR0TAQH/BAgwBgEB/wIBADAdBgNVHQ4EFgQUaDfg67Y7+F8Rhvv+\n",
      "# YXsIiGX0TkIwHwYDVR0jBBgwFoAU7NfjgtJxXWRM3y5nP+e6mK4cD08wDgYDVR0P\n",
      "# AQH/BAQDAgGGMBMGA1UdJQQMMAoGCCsGAQUFBwMDMHcGCCsGAQUFBwEBBGswaTAk\n",
      "# BggrBgEFBQcwAYYYaHR0cDovL29jc3AuZGlnaWNlcnQuY29tMEEGCCsGAQUFBzAC\n",
      "# hjVodHRwOi8vY2FjZXJ0cy5kaWdpY2VydC5jb20vRGlnaUNlcnRUcnVzdGVkUm9v\n",
      "# dEc0LmNydDBDBgNVHR8EPDA6MDigNqA0hjJodHRwOi8vY3JsMy5kaWdpY2VydC5j\n",
      "# b20vRGlnaUNlcnRUcnVzdGVkUm9vdEc0LmNybDAcBgNVHSAEFTATMAcGBWeBDAED\n",
      "# MAgGBmeBDAEEATANBgkqhkiG9w0BAQwFAAOCAgEAOiNEPY0Idu6PvDqZ01bgAhql\n",
      "# +Eg08yy25nRm95RysQDKr2wwJxMSnpBEn0v9nqN8JtU3vDpdSG2V1T9J9Ce7FoFF\n",
      "# UP2cvbaF4HZ+N3HLIvdaqpDP9ZNq4+sg0dVQeYiaiorBtr2hSBh+3NiAGhEZGM1h\n",
      "# mYFW9snjdufE5BtfQ/g+lP92OT2e1JnPSt0o618moZVYSNUa/tcnP/2Q0XaG3Ryw\n",
      "# YFzzDaju4ImhvTnhOE7abrs2nfvlIVNaw8rpavGiPttDuDPITzgUkpn13c5Ubdld\n",
      "# AhQfQDN8A+KVssIhdXNSy0bYxDQcoqVLjc1vdjcshT8azibpGL6QB7BDf5WIIIJw\n",
      "# 8MzK7/0pNVwfiThV9zeKiwmhywvpMRr/LhlcOXHhvpynCgbWJme3kuZOX956rEnP\n",
      "# LqR0kq3bPKSchh/jwVYbKyP/j7XqiHtwa+aguv06P0WmxOgWkVKLQcBIhEuWTatE\n",
      "# QOON8BUozu3xGFYHKi8QxAwIZDwzj64ojDzLj4gLDb879M4ee47vtevLt/B3E+bn\n",
      "# KD+sEq6lLyJsQfmCXBVmzGwOysWGw/YmMwwHS6DTBwJqakAwSEs0qFEgu60bhQji\n",
      "# WQ1tygVQK+pKHJ6l/aCnHwZ05/LWUpD9r4VIIflXO7ScA+2GRfS0YW6/aOImYIbq\n",
      "# yK+p/pQd52MbOoZWeE4wggeLMIIFc6ADAgECAhAEZz7hTCivBnGzZECRbnDHMA0G\n",
      "# CSqGSIb3DQEBDQUAMGkxCzAJBgNVBAYTAlVTMRcwFQYDVQQKEw5EaWdpQ2VydCwg\n",
      "# SW5jLjFBMD8GA1UEAxM4RGlnaUNlcnQgVHJ1c3RlZCBHNCBDb2RlIFNpZ25pbmcg\n",
      "# UlNBNDA5NiBTSEEzODQgMjAyMSBDQTEwHhcNMjQxMjAyMDAwMDAwWhcNMjUxMjAx\n",
      "# MjM1OTU5WjB4MQswCQYDVQQGEwJDSDEQMA4GA1UEBwwHWsO8cmljaDEPMA0GA1UE\n",
      "# ChMGU1dJVENIMRYwFAYDVQQLEw1Db21tdW5pdHkgU09DMQ8wDQYDVQQDEwZTV0lU\n",
      "# Q0gxHTAbBgkqhkiG9w0BCQEWDmNzb2NAc3dpdGNoLmNoMIICIjANBgkqhkiG9w0B\n",
      "# AQEFAAOCAg8AMIICCgKCAgEAy0m9JatRa0j2BFjVUccf/AQkDEbDgUdwTEFguiqt\n",
      "# L+dJSnHNzkSiwmbWJ653UTzAYlOLPrXZl9AFWKt789SV5+PKXUp39TozKCn+K4iY\n",
      "# stf05O3vRoLV1Y9glII0hvNRFTr0VWXdNhJXiGqJm/mXdWoqJjF7Djq1xawIft1P\n",
      "# HEukoFpaT7NZsxNPtTNk/AKappEtF5CaUyGbjI4x9ql8fMFCz0AN3mVj9playpwl\n",
      "# Y5OFzfvQPWcdI3DpdeqMSksI5PdIuguqg5H0GSts+m9SUQ5KILXVaCFxHpei3cZT\n",
      "# WzSHlIBJtatf0rFn7JKusSdIiadHWh8mEcuDi1y9TbT+QKd3BmUN3yEmz4AOZcAY\n",
      "# 6BTtut1hTgNCsboKS6hfpKSJ0LtG5MRUDANWmRGzSEiJj2sP0yMgCWFWQxeZOeeM\n",
      "# rpMffbOU6MatGvJvlxjLtuefX9XkYD69TNTpAe7CgqVEhyVG4hzd+TxzzwDHuL6N\n",
      "# Q1Jg3JSGMvkM+QW4QMaDLEP3MtXbLuMd8YyucPvtiO3e/7dBSpMLTfxfpefIwPlt\n",
      "# 2Vq8/XwULkPswkKOU+yFZ5y+s0rwgXy9tBAaTBJ0YdnU4LMjXFAQT0WEFerO1pMQ\n",
      "# 7bFFwyyApAW1oFszajRz09RSe/6fzLaYPnQ0x50asi9oLQhqBaV92JrKIvMlPnSi\n",
      "# PU8CAwEAAaOCAh4wggIaMB8GA1UdIwQYMBaAFGg34Ou2O/hfEYb7/mF7CIhl9E5C\n",
      "# MB0GA1UdDgQWBBRyglgSm+3gDR/s3VQaQF7nC6N6DjAZBgNVHREEEjAQgQ5jc29j\n",
      "# QHN3aXRjaC5jaDA+BgNVHSAENzA1MDMGBmeBDAEEATApMCcGCCsGAQUFBwIBFhto\n",
      "# dHRwOi8vd3d3LmRpZ2ljZXJ0LmNvbS9DUFMwDgYDVR0PAQH/BAQDAgeAMBMGA1Ud\n",
      "# JQQMMAoGCCsGAQUFBwMDMIG1BgNVHR8Ega0wgaowU6BRoE+GTWh0dHA6Ly9jcmwz\n",
      "# LmRpZ2ljZXJ0LmNvbS9EaWdpQ2VydFRydXN0ZWRHNENvZGVTaWduaW5nUlNBNDA5\n",
      "# NlNIQTM4NDIwMjFDQTEuY3JsMFOgUaBPhk1odHRwOi8vY3JsNC5kaWdpY2VydC5j\n",
      "# b20vRGlnaUNlcnRUcnVzdGVkRzRDb2RlU2lnbmluZ1JTQTQwOTZTSEEzODQyMDIx\n",
      "# Q0ExLmNybDCBlAYIKwYBBQUHAQEEgYcwgYQwJAYIKwYBBQUHMAGGGGh0dHA6Ly9v\n",
      "# Y3NwLmRpZ2ljZXJ0LmNvbTBcBggrBgEFBQcwAoZQaHR0cDovL2NhY2VydHMuZGln\n",
      "# aWNlcnQuY29tL0RpZ2lDZXJ0VHJ1c3RlZEc0Q29kZVNpZ25pbmdSU0E0MDk2U0hB\n",
      "# Mzg0MjAyMUNBMS5jcnQwCQYDVR0TBAIwADANBgkqhkiG9w0BAQ0FAAOCAgEAM5iE\n",
      "# K85F9lgAFI0a3gx0+gnj1eJICzKw0UzuOIGvltJFZ/B7fAapYwQwiATysebYihsU\n",
      "# kACzl5M/2jFQ9BpoH/yZLiJScKRdhEXNgl3GH70cB9xLLAfE0Tq75zURcOUD4zJs\n",
      "# pg3boWVaWC5UBfQRhPBxaUb/I5vV3+9NPdIjW5PSXv9CA1mMPzyIEsI0LKit8VgO\n",
      "# jQ4mX0/ExwYpCMZS/lcCnQySLfh4keHTZ0MSMQZu880Sii5cxgHdAdDG9mKcoFyi\n",
      "# aDWav10SU8Q1V8DTg8XS+1ZbNSck/9skzFOjA9CCUk8MK6Bd/tz34y4owvQ86jv/\n",
      "# 0yF72dDi61pIvT+R+8AjHZQJqEvL4VrSIoMVZLio7qEw+fj4yDdEheYRLCtCetYX\n",
      "# mYAwAIhrnbtzRC+8YEd5a+2k13NYM55t1UjyusiSymK5K87r706DzvHsCZ9Pr75Q\n",
      "# tu37G8EaTiO7sm4sj16VocByahcnqWsfIKqAjVGRFVDbia4QENUzRIPzYRRVcrZR\n",
      "# fVmDb5vmPyNE/b+3aR5fDqail6AS+HoRRwFUpl162sqKyyKAIlPZ7ZlIRrLmnA6N\n",
      "# IJIbTJzdjaWhu09cdPcigZLExVzkGdrhaFrxuNYOIzVei76tsBWTVDAbJLQ9bWaW\n",
      "# aWPgdQAJ/0JO3a9vi3RHK8LBFngydvsNgO2c+tExggMiMIIDHgIBATB9MGkxCzAJ\n",
      "# BgNVBAYTAlVTMRcwFQYDVQQKEw5EaWdpQ2VydCwgSW5jLjFBMD8GA1UEAxM4RGln\n",
      "# aUNlcnQgVHJ1c3RlZCBHNCBDb2RlIFNpZ25pbmcgUlNBNDA5NiBTSEEzODQgMjAy\n",
      "# MSBDQTECEARnPuFMKK8GcbNkQJFucMcwCwYJYIZIAWUDBAIBoHwwEAYKKwYBBAGC\n",
      "# NwIBDDECMAAwGQYJKoZIhvcNAQkDMQwGCisGAQQBgjcCAQQwHAYKKwYBBAGCNwIB\n",
      "# CzEOMAwGCisGAQQBgjcCARUwLwYJKoZIhvcNAQkEMSIEIHVmbJ6gGdqHSxnwQKbn\n",
      "# QqfC7PKxQwDhQaTd9Mzzi20oMAsGCSqGSIb3DQEBAQSCAgAtbwWQktAZ9Mi9x3g8\n",
      "# m1BF9dJKzBE4QfnqhqSBcifaTpV94/JeAy7zQgf/Y2tBPzu1jx7srAve9SzQT8Vf\n",
      "# /cphtNWdu7xw+1chzUA2zQ+cKLw4l2c+otTcTPgwq5F2uUhypOkkMS9BJH+6HbkK\n",
      "# 0I79ZrGod9ZKyKGqYO5mD+c5BsXOFq+xI+2wBie3LS3yiQSV7mDY8bWqHGSeIN1c\n",
      "# AyG+gF2bXGumk3XQ1NtVWwSSp5UfwUoiDuOd80+YLPvHYaUZmMeV4knhhrHXmQiB\n",
      "# ilYj7tfVAeq46rbbnxvT7VZzPtACSWhB5jdyw5Dzps+elL+ubqgbwFPHWUeV2I72\n",
      "# qdz/9Gx59KKw9cmfn7AYUut37r4LYpihIs9HWZH8ecJ7qS/gCr6z7Y+/97TIsLPk\n",
      "# /QHBAZXE5mXGpwxEjOxkxdN/p31t37mmyc2GLjCShV2quqbQNZ9PH8RDa3ubOdVz\n",
      "# say8rIpxybXb8aQp0+hbs+t9EiaatLma2fkf2iLQeGy1zFEmR+t49EXJxFf/Sl3d\n",
      "# grmftci+qjPSJDWlafHRh2jJjB3lNY3D0JVQ/La+9btqENQaTtiU7Kym6tvwEXDj\n",
      "# O0sZhZU8habtgrXm4U8LSbFqkPzNtRfWw1woHo8IXiWYDXp/WbfpLWXt/dMh3JnS\n",
      "# ksMq8DieprBCgyGSMvU0QaYj9w==\n",
      "# SIG # End signature block\n"
     ]
    }
   ],
   "source": [
    "# checking the content of the PROFILE file\n",
    "\n",
    "Get-Content $PROFILE.CurrentUserCurrentHost # | select -First 20"
   ]
  }
 ],
 "metadata": {
  "kernelspec": {
   "display_name": ".NET (C#)",
   "language": "C#",
   "name": ".net-csharp"
  },
  "language_info": {
   "name": "csharp"
  },
  "polyglot_notebook": {
   "kernelInfo": {
    "defaultKernelName": "csharp",
    "items": [
     {
      "aliases": [],
      "name": "csharp"
     }
    ]
   }
  }
 },
 "nbformat": 4,
 "nbformat_minor": 2
}
