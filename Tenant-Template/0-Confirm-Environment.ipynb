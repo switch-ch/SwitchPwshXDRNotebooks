{
 "cells": [
  {
   "cell_type": "code",
   "execution_count": null,
   "id": "1fd0b23a",
   "metadata": {
    "polyglot_notebook": {
     "kernelName": "pwsh"
    },
    "vscode": {
     "languageId": "polyglot-notebook"
    }
   },
   "outputs": [],
   "source": [
    "# run nothing because of bug of VS Code, this will error out\n",
    "$env:PSModulePath.Split([System.IO.Path]::PathSeparator)[0]\n",
    "$PSDefaultParameterValues\n",
    "$PID\n",
    "$timeframe_to_investigate = 9"
   ]
  },
  {
   "cell_type": "code",
   "execution_count": 1,
   "metadata": {
    "polyglot_notebook": {
     "kernelName": "pwsh"
    },
    "vscode": {
     "languageId": "polyglot-notebook"
    }
   },
   "outputs": [],
   "source": [
    "#$nested_anonTokenNotebook = Join-Path $pwd '0-Confirm-Environment.ipynb'\n",
    "#Invoke-ExecuteNotebook $nested_anonTokenNotebook # -Parameters @{arr = $converted; me = $me}\n"
   ]
  }
 ],
 "metadata": {
  "kernelspec": {
   "display_name": ".NET (C#)",
   "language": "C#",
   "name": ".net-csharp"
  },
  "language_info": {
   "name": "csharp"
  },
  "polyglot_notebook": {
   "kernelInfo": {
    "defaultKernelName": "csharp",
    "items": [
     {
      "aliases": [],
      "name": "csharp"
     }
    ]
   }
  }
 },
 "nbformat": 4,
 "nbformat_minor": 2
}
