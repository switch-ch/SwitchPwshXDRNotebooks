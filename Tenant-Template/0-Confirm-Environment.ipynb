{
 "cells": [
  {
   "cell_type": "markdown",
   "metadata": {},
   "source": [
    "# Grant consent to Enterprise Application"
   ]
  },
  {
   "cell_type": "code",
   "execution_count": null,
   "metadata": {
    "polyglot_notebook": {
     "kernelName": "pwsh"
    }
   },
   "outputs": [],
   "source": [
    "$clientID = '3fbb68ad-a29b-4c79-a709-8922e1a672f0' # from switchmsspdev tenant delegated\n",
    "\n",
    "# tenantId can be changed for your tenant\n",
    "$tenantId = 'cc140c86-814b-4468-b4f4-b4147ab5fe25'\n",
    "\n",
    "\"https://login.microsoftonline.com/$tenantId/adminconsent?client_id=$clientID&redirect_id=https://login.microsoftonline.com/common/oauth2/nativeclient&state=onboarding\" | Set-Clipboard\n"
   ]
  }
 ],
 "metadata": {
  "kernelspec": {
   "display_name": ".NET (C#)",
   "language": "C#",
   "name": ".net-csharp"
  },
  "language_info": {
   "name": "polyglot-notebook"
  },
  "polyglot_notebook": {
   "kernelInfo": {
    "defaultKernelName": "csharp",
    "items": [
     {
      "aliases": [],
      "name": "csharp"
     }
    ]
   }
  }
 },
 "nbformat": 4,
 "nbformat_minor": 2
}
