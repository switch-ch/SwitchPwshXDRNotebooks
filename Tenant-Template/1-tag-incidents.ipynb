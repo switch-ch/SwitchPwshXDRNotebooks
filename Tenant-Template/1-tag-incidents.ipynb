{
 "cells": [
  {
   "cell_type": "markdown",
   "metadata": {},
   "source": [
    "# <font style=\"color: Red\">Initialize & Login</font>"
   ]
  },
  {
   "cell_type": "markdown",
   "metadata": {},
   "source": [
    "## <font style=\"color: green\">Intialize</font>"
   ]
  },
  {
   "cell_type": "code",
   "execution_count": 5,
   "metadata": {
    "dotnet_interactive": {
     "language": "pwsh"
    },
    "polyglot_notebook": {
     "kernelName": "pwsh"
    },
    "vscode": {
     "languageId": "polyglot-notebook"
    }
   },
   "outputs": [
    {
     "name": "stdout",
     "output_type": "stream",
     "text": [
      "/Users/sass/Source/SwitchPwshXDRNotebooks/Modules\n",
      "\n",
      "\u001b[32;1mName                          \u001b[0m\u001b[32;1m Value\u001b[0m\n",
      "\u001b[32;1m----                          \u001b[0m \u001b[32;1m-----\u001b[0m\n",
      "Connect-MgGraph:ContextScope   Process\n",
      "pid: 18158\n",
      "\n"
     ]
    }
   ],
   "source": [
    "# run nothing because of bug of VS Code, this will error out\n",
    "$env:PSModulePath.Split([system.IO.Path]::PathSeparator)[0]\n",
    "$PSDefaultParameterValues\n",
    "\n",
    "\"pid: $pid\""
   ]
  },
  {
   "cell_type": "code",
   "execution_count": null,
   "metadata": {
    "dotnet_interactive": {
     "language": "pwsh"
    },
    "polyglot_notebook": {
     "kernelName": "pwsh"
    },
    "vscode": {
     "languageId": "polyglot-notebook"
    }
   },
   "outputs": [],
   "source": [
    "$timeframe_to_investigate = 7 # in days\n",
    "\n",
    "$clientID = '' # Enterprise Application Client ID\n",
    "$tenantId = '' # Tenant ID\n",
    "\n",
    "\n",
    "$look_back_date = Get-Date ((Get-Date).AddDays( $( 0 - $timeframe_to_investigate) )) -Format 'yyyy-MM-dd'"
   ]
  },
  {
   "cell_type": "markdown",
   "metadata": {},
   "source": [
    "## <font style=\"color: green\">Sign-in into the tenant</font>\n",
    "\n",
    "We can use any account which is present in the tenant and had been assigned to the enterprise application\n",
    "\n",
    "If this account is a Guest and MFA is enforced, we'll need to sign-in interactively and complete the MFA requirements"
   ]
  },
  {
   "cell_type": "code",
   "execution_count": null,
   "metadata": {
    "dotnet_interactive": {
     "language": "pwsh"
    },
    "polyglot_notebook": {
     "kernelName": "pwsh"
    },
    "vscode": {
     "languageId": "polyglot-notebook"
    }
   },
   "outputs": [],
   "source": [
    "# Disconnect-Graph | Out-Null\n",
    "Connect-Defender -TenantId $tenantId -ClientID $clientID -PassThru | Format-List"
   ]
  },
  {
   "cell_type": "markdown",
   "metadata": {},
   "source": [
    "# <font style=\"color: red\">Incident enrichment</font>"
   ]
  },
  {
   "cell_type": "markdown",
   "metadata": {},
   "source": [
    "## <font style=\"color: green\">Get incidents</font>"
   ]
  },
  {
   "cell_type": "code",
   "execution_count": 17,
   "metadata": {
    "dotnet_interactive": {
     "language": "pwsh"
    },
    "polyglot_notebook": {
     "kernelName": "pwsh"
    },
    "vscode": {
     "languageId": "polyglot-notebook"
    }
   },
   "outputs": [
    {
     "name": "stdout",
     "output_type": "stream",
     "text": [
      "\u001b[31;1mWrite-Error: \u001b[31;1mFailed to retrieve incidents: Authentication needed. Please call Connect-MgGraph.\u001b[0m\n",
      "Incident count: 0\n"
     ]
    }
   ],
   "source": [
    "$incidents = $null\n",
    "$incidents = try { Get-MgSecurityIncident -ExpandProperty Alerts -Filter \"Status ne 'resolved' and Severity in ('medium', 'high') and CreatedDateTime ge $look_back_date\" -ErrorAction Stop } catch { Write-Error \"Failed to retrieve incidents: $_\"; $error.Clear(); $null }\n",
    "Write-Host \"Incident count: $($incidents.count)\""
   ]
  },
  {
   "cell_type": "markdown",
   "metadata": {},
   "source": [
    "## <font style=\"color: green\">Get incident details from alerts</font>"
   ]
  },
  {
   "cell_type": "markdown",
   "metadata": {},
   "source": [
    "### <font style=\"color: blue\">Enrich with alert information</font>"
   ]
  },
  {
   "cell_type": "code",
   "execution_count": 18,
   "metadata": {
    "dotnet_interactive": {
     "language": "pwsh"
    },
    "polyglot_notebook": {
     "kernelName": "pwsh"
    },
    "vscode": {
     "languageId": "polyglot-notebook"
    }
   },
   "outputs": [
    {
     "name": "stdout",
     "output_type": "stream",
     "text": [
      "Incident count: 0\n"
     ]
    }
   ],
   "source": [
    "Write-Output \"Incident count: $($incidents.Count)\"\n",
    "\n",
    "$swIncidents = [System.Collections.Specialized.OrderedDictionary]::new()\n",
    "\n",
    "# iterate over the incidents (TEMPORARY ONLY SELECTING THE FIRST)\n",
    "foreach ( $incident in ($incidents <#| Where-Object {$_.AssignedTo -eq $me.mail}#> )) {\n",
    "    # create and build our \"switch-incident\" object\n",
    "    $swIncident = @{}\n",
    "    $swIncident.incId = $incident.Id\n",
    "    $swIncident.incSev = $incident.Severity\n",
    "    $swIncident.incTitle = $incident.DisplayName\n",
    "    $swIncident.AlertCount = $incident.Alerts.Count\n",
    "    $swIncident.Created = $incident.CreatedDateTime\n",
    "    $swIncident.CustomTags = $incident.customTags\n",
    "    $swIncident.AssignedTo = $incident.assignedTo\n",
    "\n",
    "    # get the alert(s) of the indcident (THIS WAS NOT TESTED WITH MULTIPLE ALERTS in one incident)\n",
    "    $alerts = foreach ($aId in $incident.Alerts.id) { Get-MgSecurityAlertV2 -AlertId $aId }\n",
    "    Write-Output \"Alert count: $($alerts.Count)\"\n",
    "\n",
    "    # iterate over the alerts\n",
    "    foreach ($alert in $alerts) {\n",
    "\n",
    "        # extent our incident object further\n",
    "        $swIncident.AlertTitle = $alert.Title\n",
    "\n",
    "        # different logic depeding on the DetectorId in question\n",
    "        switch ($alert.DetectorId) {\n",
    "            'b8f6b088-5487-4c70-037c-08d8d71a43fe' {<# Email messages removed after delivery#>}\n",
    "            default {\n",
    "                #Write-Output \"Evidence count: $($alert.Evidence.Count)\"\n",
    "                Foreach($ev in $alert.Evidence){\n",
    "                    $evOb = [pscustomobject][hashtable]($ev.AdditionalProperties)\n",
    "                    switch ($evOb.'@odata.type') {\n",
    "                        \"#microsoft.graph.security.userEvidence\" { $swIncident.dUPN = $evOb.userAccount.userPrincipalName;\n",
    "                            $swIncident.AccountObjectId = $evOb.userAccount.azureAdUserId;}\n",
    "                        \"#microsoft.graph.security.ipEvidence\" { $swIncident.dIP = $evOb.IPAddress }\n",
    "                        \"#microsoft.graph.security.cloudLogonRequestEvidence\" { $swIncident.dRequestId = $evOb.requestId}\n",
    "                        \"#microsoft.graph.security.cloudApplicationEvidence\" { $swIncident.dSource = $evOb.displayName }\n",
    "                        \"#microsoft.graph.security.fileEvidence\" { $swIncident.fileSHA256 = $evOb.fileDetails.sha256; $swIncident.fileName = $evOb.fileDetails.fileName }\n",
    "                        \"#microsoft.graph.security.urlEvidence\" { $swIncident.dURL = $evOb.url.replace(\":\",\"_\")}\n",
    "                        \"#microsoft.graph.security.deviceEvidence\" { $swIncident.mdeID = $evOb.mdeDeviceId; $swIncident.device = $evOb.deviceDnsName}\n",
    "                        \"#microsoft.graph.security.mailboxEvidence\" {  \n",
    "                            $swIncident.MB_primaryAddress = $evOb.primaryAddress;\n",
    "                        }\n",
    "                        \"#microsoft.graph.security.analyzedMessageEvidence\" {  \n",
    "                            $swIncident.ME_deliveryLocation = $evOb.deliveryLocation;\n",
    "                            $swIncident.ME_deliveryAction = $evOb.deliveryAction;\n",
    "                            $swIncident.ME_Verdict = $ev.Verdict; \n",
    "                            $swIncident.ME_threats = $evOb.threats;\n",
    "                            $swIncident.ME_CreatedDateTime = $evOb.CreatedDateTime; \n",
    "                            $swIncident.ME_receivedDateTime = $evOb.receivedDateTime;\n",
    "                            $swIncident.ME_senderIp = $evOb.senderIp;\n",
    "                            $swIncident.ME_subject = $evOb.subject;\n",
    "                            $swIncident.ME_networkMessageId = $evOb.networkMessageId;\n",
    "                            $swIncident.dURL = $evOb.urls | foreach-object { $_.replace(\":\",\"_\") };\n",
    "                        }\n",
    "\n",
    "\n",
    "                        \"#microsoft.graph.security.processEvidence\" {}\n",
    "                        \n",
    "                        \n",
    "                        \"#microsoft.graph.security.mailClusterEvidence\" { <# This type can have many #>}\n",
    "                        default { \"$($alert.DetectorId)`t$($evOb.'@odata.type')\" }\n",
    "                    }\n",
    "\n",
    "                }\n",
    "            }\n",
    "        }\n",
    "        if ($swIncident.dUPN) {\n",
    "            $sortUPN = $swIncident.dUPN.Split('@')[0]\n",
    "        \n",
    "            $user = Get-MgUser -Filter \"userPrincipalName eq '$($swIncident.dUPN)'\" -Select OnPremisesExtensionAttributes, Id, DisplayName, mail, userPrincipalName, EmployeeType\n",
    "            if ($user) {\n",
    "        \n",
    "                if ($user.OnPremisesExtensionAttributes.ExtensionAttribute1){\n",
    "                    if ( $user.OnPremisesExtensionAttributes.ExtensionAttribute1 -eq 'H' ) { $swIncident.dAccountType = \"Faculty\" }\n",
    "                    elseif ( $user.OnPremisesExtensionAttributes.ExtensionAttribute1 -eq 'C' ) { $swIncident.dAccountType = \"Student\" }\n",
    "                    elseif ( $( try { $user.OnPremisesExtensionAttributes.ExtensionAttribute1.Contains(',') } catch {$false} )  ) {$swIncident.dAccountType = \"Faculty, Student\"}\n",
    "                } else { \n",
    "                    if ( $user.EmployeeType -eq 'H' ) { $swIncident.dAccountType = \"Faculty\" }\n",
    "                    elseif ( $user.EmployeeType -eq 'C' ) { $swIncident.dAccountType = \"Student\" }\n",
    "                    elseif ( ((Invoke-GraphRequest -Uri \"/v1.0/users/$($user.Id)/memberOf\" -Method Get).Value.onPremisesSamAccountName -match \"for_faculty\").count -gt 0 ) { $swIncident.dAccountType = \"Faculty\" }\n",
    "                    else { Write-Warning \"$($swIncident.dUPN) has no ExtensionAttribute1\" }\n",
    "                }\n",
    "                #if ( $sortUPN.length -eq 4 ) { $swIncident.dAccountType = \"Faculty\" }\n",
    "                #elseif ( ($sortUPN.length -eq 6 -or $sortUPN.length -eq 7) -and $(try{ [int]$sortUPN.Substring(5) -is [int] } catch {$false}) ) { $swIncident.dAccountType = \"Student\" }\n",
    "                #elseif ( $sortUPN.startswith('adm-')) { $swIncident.dAccountType = \"Admin\" }\n",
    "                else { $swIncident.dAccountType = \"ServiceAccount\" }\n",
    "                \n",
    "                $swIncident.dMail = $user.mail\n",
    "            } else {\n",
    "                $user = Get-MgUser -Filter \"mail eq '$($swIncident.dUPN)'\" -Select OnPremisesExtensionAttributes, Id, DisplayName, mail, userPrincipalName, EmployeeType\n",
    "                \n",
    "                if ($user) {\n",
    "                    if ( $sortUPN.length -eq 4 ) { $swIncident.dAccountType = \"Faculty\" }\n",
    "                    elseif ( ($sortUPN.length -eq 6 -or $sortUPN.length -eq 7) -and $(try{ [int]$sortUPN.Substring(5) -is [int] } catch {$false}) ) { $swIncident.dAccountType = \"Student\" }\n",
    "                    elseif ( $sortUPN.startswith('adm-')) { $swIncident.dAccountType = \"Admin\" }\n",
    "                    elseif ( $user.UserPrincipalName.contains('#EXT#@')) { $swIncident.dAccountType = \"Guest\" }\n",
    "                    \n",
    "                    $swIncident.dMail = $user.mail\n",
    "                }\n",
    "            }\n",
    "        }\n",
    "    }\n",
    "    $swIncidents.Add($swIncident.incId,[pscustomobject]$swIncident)\n",
    "}"
   ]
  },
  {
   "cell_type": "markdown",
   "metadata": {},
   "source": [
    "### <font style=\"color: blue\">Enrich with IP information</font>"
   ]
  },
  {
   "cell_type": "code",
   "execution_count": null,
   "metadata": {
    "dotnet_interactive": {
     "language": "pwsh"
    },
    "polyglot_notebook": {
     "kernelName": "pwsh"
    },
    "vscode": {
     "languageId": "polyglot-notebook"
    }
   },
   "outputs": [
    {
     "name": "stdout",
     "output_type": "stream",
     "text": [
      "\u001b[93mWARNING: No incidents found\u001b[0m\n"
     ]
    }
   ],
   "source": [
    "## enrich IPAddress\n",
    "if ($swIncidents.count -gt 0) {\n",
    "    foreach( $incident in $swIncidents.Values.GetEnumerator() ) {\n",
    "        $ipx = ''\n",
    "        $vpnProvider = ''\n",
    "        if ( $incident.dIP ) {\n",
    "            $ipDetails = Get-IPRiskDetails $incident.dIP\n",
    "            if (Test-KnownVPN $ipDetails) {$vpnProvider = $ipDetails.organization.Replace(\" \",'')}\n",
    "            if ($ipDetails.proxy -eq 'True') { $ipx += \"P\" } else { $ipx += \".\" }\n",
    "            if ($ipDetails.tor -eq 'True') { $ipx += \"T\" } else { $ipx += \".\" }\n",
    "            if ($ipDetails.vpn -eq 'True') { $ipx += \"V\" } else { $ipx += \".\" }\n",
    "        }\n",
    "        \n",
    "        try { Add-Member -InputObject $incident -Name \"xIP\" -Value $ipx -MemberType NoteProperty -Force }\n",
    "        catch {}\n",
    "        try { Add-Member -InputObject $incident -Name \"xVPN\" -Value $vpnProvider -MemberType NoteProperty -Force }\n",
    "        catch {}\n",
    "    }\n",
    "} else {\n",
    "    Write-Warning \"No incidents found\"\n",
    "}"
   ]
  },
  {
   "cell_type": "code",
   "execution_count": null,
   "metadata": {
    "dotnet_interactive": {
     "language": "pwsh"
    },
    "polyglot_notebook": {
     "kernelName": "pwsh"
    },
    "vscode": {
     "languageId": "polyglot-notebook"
    }
   },
   "outputs": [],
   "source": [
    "# Print incident details\n",
    "# $swIncidents.Values.GetEnumerator() | Format-list #Table incId, ME_Verdict, dAccountType, dIP, xIP, incTitle"
   ]
  },
  {
   "cell_type": "markdown",
   "metadata": {},
   "source": [
    "### <font style=\"color: blue\">Tag the incidents</font>"
   ]
  },
  {
   "cell_type": "code",
   "execution_count": 21,
   "metadata": {
    "dotnet_interactive": {
     "language": "pwsh"
    },
    "polyglot_notebook": {
     "kernelName": "pwsh"
    },
    "vscode": {
     "languageId": "polyglot-notebook"
    }
   },
   "outputs": [
    {
     "name": "stdout",
     "output_type": "stream",
     "text": [
      "\u001b[93mWARNING: No incidents found\u001b[0m\n"
     ]
    }
   ],
   "source": [
    "if ($swIncidents.count -gt 0) {\n",
    "        $swIncidents.Values.GetEnumerator() | foreach {\n",
    "        $incID = $_.incId\n",
    "        $ogTags = New-Object System.Collections.ArrayList\n",
    "        $newTags = New-Object System.Collections.ArrayList\n",
    "        $_.customTags | % { $null = $ogTags.add($_); $null = $newTags.add($_) }\n",
    "        \n",
    "        $incidentsForMailingTeam = @('Suspicious email sending patterns detected','User restricted from sending email')\n",
    "        \n",
    "        switch ($_.dAccountType) { \n",
    "            \"Student\" { #$params = @{ customTags = @( \"Student\")}; \n",
    "                if ($newTags.Contains(\"Student\")) {}\n",
    "                else {$null = $newTags.add(\"Student\")}\n",
    "                Write-Host \".\" -NoNewline }\n",
    "            \"Faculty\" { #$params = @{ customTags = @( \"Faculty\")}; \n",
    "                if ($newTags.Contains(\"Faculty\")) {}\n",
    "                else {$null = $newTags.add(\"Faculty\")}\n",
    "                Write-Host \".\" -NoNewline }\n",
    "            \"Faculty, Student\" { #$params = @{ customTags = @( \"Faculty\", \"Student\")}; \n",
    "                if ($newTags.Contains(\"Faculty\") -and $newTags.Contains(\"Student\")) {}\n",
    "                else {$null = $newTags.add(\"Faculty\");$null = $newTags.add(\"Student\")}\n",
    "                Write-Host \".\" -NoNewline }\n",
    "            \"Admin\"   { #$params = @{ customTags = @( \"Admin\")}; \n",
    "                if ($newTags.Contains(\"Admin\")) {}\n",
    "                else {$null = $newTags.add(\"Admin\")}\n",
    "                Write-Host \".\" -NoNewline }\n",
    "            \"Guest\"   { #$params = @{ customTags = @( \"Guest\")}; \n",
    "                if ($newTags.Contains(\"Guest\")) {}\n",
    "                else {$null = $newTags.add(\"Guest\")}\n",
    "                Write-Host \".\" -NoNewline }\n",
    "            \"ServiceAccount\" { #$params = @{ customTags = @( \"ServiceAccount\")}; \n",
    "                if ($newTags.Contains(\"ServiceAccount\")) {}\n",
    "                else {$null = $newTags.add(\"ServiceAccount\")}\n",
    "                Write-Host \".\" -NoNewline }\n",
    "            default { Write-Host \":\" -NoNewline }\n",
    "        }\n",
    "    \n",
    "        if ($_.xIP) {\n",
    "            if (-not $newTags.Contains($_.xIP) ) {\n",
    "                $null = $newTags.Add($_.xIP); Write-Host \"X\" -NoNewline\n",
    "            }\n",
    "            if ($_.xVPN) {\n",
    "                if (-not $newTags.Contains($_.xVPN) ) {\n",
    "                    $null = $newTags.add($_.xVPN)\n",
    "                }\n",
    "            }\n",
    "        }\n",
    "        \n",
    "        $OK = $false\n",
    "        if ( $newTags.Count -eq 0 -and $ogTags.Count -eq 0) { $OK = $true } \n",
    "        elseif ($newTags.Count -eq 1 -and $ogTags.Count -eq 1 -and $ogTags.Contains($newTags[0])) { $OK = $true  }\n",
    "        elseif ( $newTags.Count -ne $ogTags.Count ) { }\n",
    "        elseif ( -not ($newTags.ToArray() | Compare-Object $ogTags.ToArray()) -as [bool] ) { $OK = $true }\n",
    "        else {    write-host \"$incID | $ogTags | $newTags\" -ForegroundColor Red}\n",
    "        if (!$OK) {\n",
    "            $params = @{ customTags = $($newTags.ToArray() | ?{$_ -ne $null})};\n",
    "            if ($null -ne $params) {\n",
    "                try  { \n",
    "                    Update-MgSecurityIncident -IncidentId $_.incId -BodyParameter $params -ErrorAction Stop | Out-Null\n",
    "                } catch {\n",
    "                    Write-Host \"<$incID>`t$_\" -ForegroundColor Yellow\n",
    "                }\n",
    "            }\n",
    "        }\n",
    "    }\n",
    "} else {\n",
    "    Write-Warning \"No incidents found\"\n",
    "}"
   ]
  },
  {
   "cell_type": "markdown",
   "metadata": {},
   "source": [
    "# <font style=\"color: Red\">Process incidents</font>\n",
    "\n",
    "Call nested notebooks"
   ]
  },
  {
   "cell_type": "markdown",
   "metadata": {},
   "source": [
    "## <font style=\"color: green\">Convert incidents</font>"
   ]
  },
  {
   "cell_type": "code",
   "execution_count": 23,
   "metadata": {
    "dotnet_interactive": {
     "language": "pwsh"
    },
    "polyglot_notebook": {
     "kernelName": "pwsh"
    },
    "vscode": {
     "languageId": "polyglot-notebook"
    }
   },
   "outputs": [
    {
     "name": "stdout",
     "output_type": "stream",
     "text": [
      "\u001b[31;1mInvoke-MgGraphRequest: \u001b[31;1mAuthentication needed. Please call Connect-MgGraph.\u001b[0m\n"
     ]
    },
    {
     "ename": "Error",
     "evalue": "Authentication needed. Please call Connect-MgGraph.",
     "output_type": "error",
     "traceback": [
      "Authentication needed. Please call Connect-MgGraph."
     ]
    }
   ],
   "source": [
    "$me = Invoke-MgGraphRequest -Method GET -Uri /v1.0/me | Select-Object -Property id, displayName, userPrincipalName, mail\n",
    "$converted = ($swIncidents.Values.GetEnumerator()) | ConvertTo-Json"
   ]
  },
  {
   "cell_type": "markdown",
   "metadata": {},
   "source": [
    "## <font style=\"color: green\">Call nested notebooks</font>"
   ]
  },
  {
   "cell_type": "markdown",
   "metadata": {},
   "source": [
    "### <font style=\"color: blue\">Anomalous Token involving one user (Student)</font>"
   ]
  },
  {
   "cell_type": "code",
   "execution_count": 24,
   "metadata": {
    "dotnet_interactive": {
     "language": "pwsh"
    },
    "polyglot_notebook": {
     "kernelName": "pwsh"
    },
    "vscode": {
     "languageId": "polyglot-notebook"
    }
   },
   "outputs": [
    {
     "name": "stdout",
     "output_type": "stream",
     "text": [
      "\u001b[31;1mGet-Content: \u001b[0m/Users/sass/Source/SwitchPwshXDRNotebooks/Modules/PowerShellNotebook/3.0.0/InvokeExecuteNotebook.ps1:39\u001b[0m\n",
      "\u001b[31;1m\u001b[0m\u001b[36;1mLine |\u001b[0m\n",
      "\u001b[31;1m\u001b[0m\u001b[36;1m\u001b[36;1m  39 | \u001b[0m         $json = \u001b[36;1mGet-Content $InputNotebook\u001b[0m\n",
      "\u001b[31;1m\u001b[0m\u001b[36;1m\u001b[36;1m\u001b[0m\u001b[36;1m\u001b[0m\u001b[36;1m     | \u001b[31;1m                 ~~~~~~~~~~~~~~~~~~~~~~~~~~\u001b[0m\n",
      "\u001b[31;1m\u001b[0m\u001b[36;1m\u001b[36;1m\u001b[0m\u001b[36;1m\u001b[0m\u001b[36;1m\u001b[31;1m\u001b[31;1m\u001b[36;1m     | \u001b[31;1mCannot find path\u001b[0m\n",
      "\u001b[31;1m\u001b[0m\u001b[36;1m\u001b[36;1m\u001b[0m\u001b[36;1m\u001b[0m\u001b[36;1m\u001b[31;1m\u001b[31;1m\u001b[36;1m\u001b[31;1m\u001b[36;1m     | \u001b[31;1m'/Users/sass/Source/SwitchPwshXDRNotebooks/Tenant-Template/nested-notebooks/exclude-anon-tokens.ipynb' because it does not exist.\u001b[0m\n",
      "\u001b[31;1mGet-Content: \u001b[0m/Users/sass/Source/SwitchPwshXDRNotebooks/Modules/PowerShellNotebook/3.0.0/FindParameterizedCell.ps1:17\u001b[0m\n",
      "\u001b[31;1m\u001b[0m\u001b[36;1mLine |\u001b[0m\n",
      "\u001b[31;1m\u001b[0m\u001b[36;1m\u001b[36;1m  17 | \u001b[0m         $json = \u001b[36;1mGet-Content $InputNotebook\u001b[0m\n",
      "\u001b[31;1m\u001b[0m\u001b[36;1m\u001b[36;1m\u001b[0m\u001b[36;1m\u001b[0m\u001b[36;1m     | \u001b[31;1m                 ~~~~~~~~~~~~~~~~~~~~~~~~~~\u001b[0m\n",
      "\u001b[31;1m\u001b[0m\u001b[36;1m\u001b[36;1m\u001b[0m\u001b[36;1m\u001b[0m\u001b[36;1m\u001b[31;1m\u001b[31;1m\u001b[36;1m     | \u001b[31;1mCannot find path\u001b[0m\n",
      "\u001b[31;1m\u001b[0m\u001b[36;1m\u001b[36;1m\u001b[0m\u001b[36;1m\u001b[0m\u001b[36;1m\u001b[31;1m\u001b[31;1m\u001b[36;1m\u001b[31;1m\u001b[36;1m     | \u001b[31;1m'/Users/sass/Source/SwitchPwshXDRNotebooks/Tenant-Template/nested-notebooks/exclude-anon-tokens.ipynb' because it does not exist.\u001b[0m\n",
      "\u001b[31;1mInvalidOperation: \u001b[0m/Users/sass/Source/SwitchPwshXDRNotebooks/Modules/PowerShellNotebook/3.0.0/InvokeExecuteNotebook.ps1:64\u001b[0m\n",
      "\u001b[31;1m\u001b[0m\u001b[36;1mLine |\u001b[0m\n",
      "\u001b[31;1m\u001b[0m\u001b[36;1m\u001b[36;1m  64 | \u001b[0m         \u001b[36;1m$cells.Insert($index, $newParams)\u001b[0m\n",
      "\u001b[31;1m\u001b[0m\u001b[36;1m\u001b[36;1m\u001b[0m\u001b[36;1m\u001b[0m\u001b[36;1m     | \u001b[31;1m         ~~~~~~~~~~~~~~~~~~~~~~~~~~~~~~~~~\u001b[0m\n",
      "\u001b[31;1m\u001b[0m\u001b[36;1m\u001b[36;1m\u001b[0m\u001b[36;1m\u001b[0m\u001b[36;1m\u001b[31;1m\u001b[31;1m\u001b[36;1m     | \u001b[31;1mYou cannot call a method on a null-valued expression.\u001b[0m\n",
      "\u001b[31;1mInvalidOperation: \u001b[0m/Users/sass/Source/SwitchPwshXDRNotebooks/Modules/PowerShellNotebook/3.0.0/InvokeExecuteNotebook.ps1:100\u001b[0m\n",
      "\u001b[31;1m\u001b[0m\u001b[36;1mLine |\u001b[0m\n",
      "\u001b[31;1m\u001b[0m\u001b[36;1m\u001b[36;1m 100 | \u001b[0m     \u001b[36;1m$data.cells = $cells\u001b[0m\n",
      "\u001b[31;1m\u001b[0m\u001b[36;1m\u001b[36;1m\u001b[0m\u001b[36;1m\u001b[0m\u001b[36;1m     | \u001b[31;1m     ~~~~~~~~~~~~~~~~~~~~\u001b[0m\n",
      "\u001b[31;1m\u001b[0m\u001b[36;1m\u001b[36;1m\u001b[0m\u001b[36;1m\u001b[0m\u001b[36;1m\u001b[31;1m\u001b[31;1m\u001b[36;1m     | \u001b[31;1mThe property 'cells' cannot be found on this object. Verify that the property exists and can\u001b[0m\n",
      "\u001b[31;1m\u001b[0m\u001b[36;1m\u001b[36;1m\u001b[0m\u001b[36;1m\u001b[0m\u001b[36;1m\u001b[31;1m\u001b[31;1m\u001b[36;1m\u001b[31;1m\u001b[36;1m     | \u001b[31;1mbe set.\u001b[0m\n"
     ]
    },
    {
     "ename": "Error",
     "evalue": "The property 'cells' cannot be found on this object. Verify that the property exists and can be set.\nYou cannot call a method on a null-valued expression.\nCannot find path '/Users/sass/Source/SwitchPwshXDRNotebooks/Tenant-Template/nested-notebooks/exclude-anon-tokens.ipynb' because it does not exist.\nCannot find path '/Users/sass/Source/SwitchPwshXDRNotebooks/Tenant-Template/nested-notebooks/exclude-anon-tokens.ipynb' because it does not exist.",
     "output_type": "error",
     "traceback": [
      "The property 'cells' cannot be found on this object. Verify that the property exists and can be set.\n",
      "You cannot call a method on a null-valued expression.\n",
      "Cannot find path '/Users/sass/Source/SwitchPwshXDRNotebooks/Tenant-Template/nested-notebooks/exclude-anon-tokens.ipynb' because it does not exist.\n",
      "Cannot find path '/Users/sass/Source/SwitchPwshXDRNotebooks/Tenant-Template/nested-notebooks/exclude-anon-tokens.ipynb' because it does not exist."
     ]
    }
   ],
   "source": [
    "$nested_anonTokenNotebook = Join-Path $pwd 'nested-notebooks' 'exclude-anon-tokens.ipynb'\n",
    "Invoke-ExecuteNotebook $nested_anonTokenNotebook -Parameters @{arr = $converted; me = $me}"
   ]
  },
  {
   "cell_type": "markdown",
   "metadata": {},
   "source": [
    "### <font style=\"color: blue\">Anonymous IP address involving one user (Student)</font>"
   ]
  },
  {
   "cell_type": "code",
   "execution_count": 25,
   "metadata": {
    "dotnet_interactive": {
     "language": "pwsh"
    },
    "polyglot_notebook": {
     "kernelName": "pwsh"
    },
    "vscode": {
     "languageId": "polyglot-notebook"
    }
   },
   "outputs": [
    {
     "name": "stdout",
     "output_type": "stream",
     "text": [
      "\u001b[31;1mGet-Content: \u001b[0m/Users/sass/Source/SwitchPwshXDRNotebooks/Modules/PowerShellNotebook/3.0.0/InvokeExecuteNotebook.ps1:39\u001b[0m\n",
      "\u001b[31;1m\u001b[0m\u001b[36;1mLine |\u001b[0m\n",
      "\u001b[31;1m\u001b[0m\u001b[36;1m\u001b[36;1m  39 | \u001b[0m         $json = \u001b[36;1mGet-Content $InputNotebook\u001b[0m\n",
      "\u001b[31;1m\u001b[0m\u001b[36;1m\u001b[36;1m\u001b[0m\u001b[36;1m\u001b[0m\u001b[36;1m     | \u001b[31;1m                 ~~~~~~~~~~~~~~~~~~~~~~~~~~\u001b[0m\n",
      "\u001b[31;1m\u001b[0m\u001b[36;1m\u001b[36;1m\u001b[0m\u001b[36;1m\u001b[0m\u001b[36;1m\u001b[31;1m\u001b[31;1m\u001b[36;1m     | \u001b[31;1mCannot find path\u001b[0m\n",
      "\u001b[31;1m\u001b[0m\u001b[36;1m\u001b[36;1m\u001b[0m\u001b[36;1m\u001b[0m\u001b[36;1m\u001b[31;1m\u001b[31;1m\u001b[36;1m\u001b[31;1m\u001b[36;1m     | \u001b[31;1m'/Users/sass/Source/SwitchPwshXDRNotebooks/Tenant-Template/nested-notebooks/exclude-anonym-ip.ipynb' because it does not exist.\u001b[0m\n",
      "\u001b[31;1mGet-Content: \u001b[0m/Users/sass/Source/SwitchPwshXDRNotebooks/Modules/PowerShellNotebook/3.0.0/FindParameterizedCell.ps1:17\u001b[0m\n",
      "\u001b[31;1m\u001b[0m\u001b[36;1mLine |\u001b[0m\n",
      "\u001b[31;1m\u001b[0m\u001b[36;1m\u001b[36;1m  17 | \u001b[0m         $json = \u001b[36;1mGet-Content $InputNotebook\u001b[0m\n",
      "\u001b[31;1m\u001b[0m\u001b[36;1m\u001b[36;1m\u001b[0m\u001b[36;1m\u001b[0m\u001b[36;1m     | \u001b[31;1m                 ~~~~~~~~~~~~~~~~~~~~~~~~~~\u001b[0m\n",
      "\u001b[31;1m\u001b[0m\u001b[36;1m\u001b[36;1m\u001b[0m\u001b[36;1m\u001b[0m\u001b[36;1m\u001b[31;1m\u001b[31;1m\u001b[36;1m     | \u001b[31;1mCannot find path\u001b[0m\n",
      "\u001b[31;1m\u001b[0m\u001b[36;1m\u001b[36;1m\u001b[0m\u001b[36;1m\u001b[0m\u001b[36;1m\u001b[31;1m\u001b[31;1m\u001b[36;1m\u001b[31;1m\u001b[36;1m     | \u001b[31;1m'/Users/sass/Source/SwitchPwshXDRNotebooks/Tenant-Template/nested-notebooks/exclude-anonym-ip.ipynb' because it does not exist.\u001b[0m\n",
      "\u001b[31;1mInvalidOperation: \u001b[0m/Users/sass/Source/SwitchPwshXDRNotebooks/Modules/PowerShellNotebook/3.0.0/InvokeExecuteNotebook.ps1:64\u001b[0m\n",
      "\u001b[31;1m\u001b[0m\u001b[36;1mLine |\u001b[0m\n",
      "\u001b[31;1m\u001b[0m\u001b[36;1m\u001b[36;1m  64 | \u001b[0m         \u001b[36;1m$cells.Insert($index, $newParams)\u001b[0m\n",
      "\u001b[31;1m\u001b[0m\u001b[36;1m\u001b[36;1m\u001b[0m\u001b[36;1m\u001b[0m\u001b[36;1m     | \u001b[31;1m         ~~~~~~~~~~~~~~~~~~~~~~~~~~~~~~~~~\u001b[0m\n",
      "\u001b[31;1m\u001b[0m\u001b[36;1m\u001b[36;1m\u001b[0m\u001b[36;1m\u001b[0m\u001b[36;1m\u001b[31;1m\u001b[31;1m\u001b[36;1m     | \u001b[31;1mYou cannot call a method on a null-valued expression.\u001b[0m\n",
      "\u001b[31;1mInvalidOperation: \u001b[0m/Users/sass/Source/SwitchPwshXDRNotebooks/Modules/PowerShellNotebook/3.0.0/InvokeExecuteNotebook.ps1:100\u001b[0m\n",
      "\u001b[31;1m\u001b[0m\u001b[36;1mLine |\u001b[0m\n",
      "\u001b[31;1m\u001b[0m\u001b[36;1m\u001b[36;1m 100 | \u001b[0m     \u001b[36;1m$data.cells = $cells\u001b[0m\n",
      "\u001b[31;1m\u001b[0m\u001b[36;1m\u001b[36;1m\u001b[0m\u001b[36;1m\u001b[0m\u001b[36;1m     | \u001b[31;1m     ~~~~~~~~~~~~~~~~~~~~\u001b[0m\n",
      "\u001b[31;1m\u001b[0m\u001b[36;1m\u001b[36;1m\u001b[0m\u001b[36;1m\u001b[0m\u001b[36;1m\u001b[31;1m\u001b[31;1m\u001b[36;1m     | \u001b[31;1mThe property 'cells' cannot be found on this object. Verify that the property exists and can\u001b[0m\n",
      "\u001b[31;1m\u001b[0m\u001b[36;1m\u001b[36;1m\u001b[0m\u001b[36;1m\u001b[0m\u001b[36;1m\u001b[31;1m\u001b[31;1m\u001b[36;1m\u001b[31;1m\u001b[36;1m     | \u001b[31;1mbe set.\u001b[0m\n"
     ]
    },
    {
     "ename": "Error",
     "evalue": "The property 'cells' cannot be found on this object. Verify that the property exists and can be set.\nYou cannot call a method on a null-valued expression.\nCannot find path '/Users/sass/Source/SwitchPwshXDRNotebooks/Tenant-Template/nested-notebooks/exclude-anonym-ip.ipynb' because it does not exist.\nCannot find path '/Users/sass/Source/SwitchPwshXDRNotebooks/Tenant-Template/nested-notebooks/exclude-anonym-ip.ipynb' because it does not exist.",
     "output_type": "error",
     "traceback": [
      "The property 'cells' cannot be found on this object. Verify that the property exists and can be set.\n",
      "You cannot call a method on a null-valued expression.\n",
      "Cannot find path '/Users/sass/Source/SwitchPwshXDRNotebooks/Tenant-Template/nested-notebooks/exclude-anonym-ip.ipynb' because it does not exist.\n",
      "Cannot find path '/Users/sass/Source/SwitchPwshXDRNotebooks/Tenant-Template/nested-notebooks/exclude-anonym-ip.ipynb' because it does not exist."
     ]
    }
   ],
   "source": [
    "$nested_anonTokenNotebook = Join-Path $pwd 'nested-notebooks' 'exclude-anonym-ip.ipynb'\n",
    "Invoke-ExecuteNotebook $nested_anonTokenNotebook -Parameters @{arr = $converted; me = $me}"
   ]
  },
  {
   "cell_type": "markdown",
   "metadata": {},
   "source": [
    "### <font style=\"color: blue\">Activity from an anonymous proxy involving one user (Student)</font>"
   ]
  },
  {
   "cell_type": "code",
   "execution_count": 26,
   "metadata": {
    "dotnet_interactive": {
     "language": "pwsh"
    },
    "polyglot_notebook": {
     "kernelName": "pwsh"
    },
    "vscode": {
     "languageId": "polyglot-notebook"
    }
   },
   "outputs": [
    {
     "name": "stdout",
     "output_type": "stream",
     "text": [
      "\u001b[31;1mGet-Content: \u001b[0m/Users/sass/Source/SwitchPwshXDRNotebooks/Modules/PowerShellNotebook/3.0.0/InvokeExecuteNotebook.ps1:39\u001b[0m\n",
      "\u001b[31;1m\u001b[0m\u001b[36;1mLine |\u001b[0m\n",
      "\u001b[31;1m\u001b[0m\u001b[36;1m\u001b[36;1m  39 | \u001b[0m         $json = \u001b[36;1mGet-Content $InputNotebook\u001b[0m\n",
      "\u001b[31;1m\u001b[0m\u001b[36;1m\u001b[36;1m\u001b[0m\u001b[36;1m\u001b[0m\u001b[36;1m     | \u001b[31;1m                 ~~~~~~~~~~~~~~~~~~~~~~~~~~\u001b[0m\n",
      "\u001b[31;1m\u001b[0m\u001b[36;1m\u001b[36;1m\u001b[0m\u001b[36;1m\u001b[0m\u001b[36;1m\u001b[31;1m\u001b[31;1m\u001b[36;1m     | \u001b[31;1mCannot find path\u001b[0m\n",
      "\u001b[31;1m\u001b[0m\u001b[36;1m\u001b[36;1m\u001b[0m\u001b[36;1m\u001b[0m\u001b[36;1m\u001b[31;1m\u001b[31;1m\u001b[36;1m\u001b[31;1m\u001b[36;1m     | \u001b[31;1m'/Users/sass/Source/SwitchPwshXDRNotebooks/Tenant-Template/nested-notebooks/exclude-anonym-proxy.ipynb' because it does not exist.\u001b[0m\n",
      "\u001b[31;1mGet-Content: \u001b[0m/Users/sass/Source/SwitchPwshXDRNotebooks/Modules/PowerShellNotebook/3.0.0/FindParameterizedCell.ps1:17\u001b[0m\n",
      "\u001b[31;1m\u001b[0m\u001b[36;1mLine |\u001b[0m\n",
      "\u001b[31;1m\u001b[0m\u001b[36;1m\u001b[36;1m  17 | \u001b[0m         $json = \u001b[36;1mGet-Content $InputNotebook\u001b[0m\n",
      "\u001b[31;1m\u001b[0m\u001b[36;1m\u001b[36;1m\u001b[0m\u001b[36;1m\u001b[0m\u001b[36;1m     | \u001b[31;1m                 ~~~~~~~~~~~~~~~~~~~~~~~~~~\u001b[0m\n",
      "\u001b[31;1m\u001b[0m\u001b[36;1m\u001b[36;1m\u001b[0m\u001b[36;1m\u001b[0m\u001b[36;1m\u001b[31;1m\u001b[31;1m\u001b[36;1m     | \u001b[31;1mCannot find path\u001b[0m\n",
      "\u001b[31;1m\u001b[0m\u001b[36;1m\u001b[36;1m\u001b[0m\u001b[36;1m\u001b[0m\u001b[36;1m\u001b[31;1m\u001b[31;1m\u001b[36;1m\u001b[31;1m\u001b[36;1m     | \u001b[31;1m'/Users/sass/Source/SwitchPwshXDRNotebooks/Tenant-Template/nested-notebooks/exclude-anonym-proxy.ipynb' because it does not exist.\u001b[0m\n",
      "\u001b[31;1mInvalidOperation: \u001b[0m/Users/sass/Source/SwitchPwshXDRNotebooks/Modules/PowerShellNotebook/3.0.0/InvokeExecuteNotebook.ps1:64\u001b[0m\n",
      "\u001b[31;1m\u001b[0m\u001b[36;1mLine |\u001b[0m\n",
      "\u001b[31;1m\u001b[0m\u001b[36;1m\u001b[36;1m  64 | \u001b[0m         \u001b[36;1m$cells.Insert($index, $newParams)\u001b[0m\n",
      "\u001b[31;1m\u001b[0m\u001b[36;1m\u001b[36;1m\u001b[0m\u001b[36;1m\u001b[0m\u001b[36;1m     | \u001b[31;1m         ~~~~~~~~~~~~~~~~~~~~~~~~~~~~~~~~~\u001b[0m\n",
      "\u001b[31;1m\u001b[0m\u001b[36;1m\u001b[36;1m\u001b[0m\u001b[36;1m\u001b[0m\u001b[36;1m\u001b[31;1m\u001b[31;1m\u001b[36;1m     | \u001b[31;1mYou cannot call a method on a null-valued expression.\u001b[0m\n",
      "\u001b[31;1mInvalidOperation: \u001b[0m/Users/sass/Source/SwitchPwshXDRNotebooks/Modules/PowerShellNotebook/3.0.0/InvokeExecuteNotebook.ps1:100\u001b[0m\n",
      "\u001b[31;1m\u001b[0m\u001b[36;1mLine |\u001b[0m\n",
      "\u001b[31;1m\u001b[0m\u001b[36;1m\u001b[36;1m 100 | \u001b[0m     \u001b[36;1m$data.cells = $cells\u001b[0m\n",
      "\u001b[31;1m\u001b[0m\u001b[36;1m\u001b[36;1m\u001b[0m\u001b[36;1m\u001b[0m\u001b[36;1m     | \u001b[31;1m     ~~~~~~~~~~~~~~~~~~~~\u001b[0m\n",
      "\u001b[31;1m\u001b[0m\u001b[36;1m\u001b[36;1m\u001b[0m\u001b[36;1m\u001b[0m\u001b[36;1m\u001b[31;1m\u001b[31;1m\u001b[36;1m     | \u001b[31;1mThe property 'cells' cannot be found on this object. Verify that the property exists and can\u001b[0m\n",
      "\u001b[31;1m\u001b[0m\u001b[36;1m\u001b[36;1m\u001b[0m\u001b[36;1m\u001b[0m\u001b[36;1m\u001b[31;1m\u001b[31;1m\u001b[36;1m\u001b[31;1m\u001b[36;1m     | \u001b[31;1mbe set.\u001b[0m\n"
     ]
    },
    {
     "ename": "Error",
     "evalue": "The property 'cells' cannot be found on this object. Verify that the property exists and can be set.\nYou cannot call a method on a null-valued expression.\nCannot find path '/Users/sass/Source/SwitchPwshXDRNotebooks/Tenant-Template/nested-notebooks/exclude-anonym-proxy.ipynb' because it does not exist.\nCannot find path '/Users/sass/Source/SwitchPwshXDRNotebooks/Tenant-Template/nested-notebooks/exclude-anonym-proxy.ipynb' because it does not exist.",
     "output_type": "error",
     "traceback": [
      "The property 'cells' cannot be found on this object. Verify that the property exists and can be set.\n",
      "You cannot call a method on a null-valued expression.\n",
      "Cannot find path '/Users/sass/Source/SwitchPwshXDRNotebooks/Tenant-Template/nested-notebooks/exclude-anonym-proxy.ipynb' because it does not exist.\n",
      "Cannot find path '/Users/sass/Source/SwitchPwshXDRNotebooks/Tenant-Template/nested-notebooks/exclude-anonym-proxy.ipynb' because it does not exist."
     ]
    }
   ],
   "source": [
    "$nested_anonTokenNotebook = Join-Path $pwd 'nested-notebooks' 'exclude-anonym-proxy.ipynb'\n",
    "Invoke-ExecuteNotebook $nested_anonTokenNotebook -Parameters @{arr = $converted; me = $me}"
   ]
  }
 ],
 "metadata": {
  "kernelspec": {
   "display_name": ".NET (C#)",
   "language": "C#",
   "name": ".net-csharp"
  },
  "language_info": {
   "name": "csharp"
  },
  "polyglot_notebook": {
   "kernelInfo": {
    "defaultKernelName": "csharp",
    "items": [
     {
      "aliases": [],
      "name": "csharp"
     }
    ]
   }
  }
 },
 "nbformat": 4,
 "nbformat_minor": 2
}
