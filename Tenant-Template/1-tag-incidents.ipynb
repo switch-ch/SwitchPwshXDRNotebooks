{
 "cells": [
  {
   "cell_type": "markdown",
   "metadata": {},
   "source": [
    "# <font style=\"color: Red\">Initialize & Login</font>"
   ]
  },
  {
   "cell_type": "markdown",
   "metadata": {},
   "source": [
    "## <font style=\"color: green\">Intialize</font>"
   ]
  },
  {
   "cell_type": "code",
   "execution_count": null,
   "metadata": {
    "dotnet_interactive": {
     "language": "pwsh"
    },
    "polyglot_notebook": {
     "kernelName": "pwsh"
    }
   },
   "outputs": [],
   "source": [
    "# run nothing because of bug of VS Code, this will error out\n",
    "$env:PSModulePath.Split([system.IO.Path]::PathSeparator)[0]\n",
    "$PSDefaultParameterValues\n",
    "\n",
    "\"`npid: $pid\""
   ]
  },
  {
   "cell_type": "code",
   "execution_count": null,
   "metadata": {
    "dotnet_interactive": {
     "language": "pwsh"
    },
    "polyglot_notebook": {
     "kernelName": "pwsh"
    }
   },
   "outputs": [],
   "source": [
    "$timeframe_to_investigate = 180 # in days\n",
    "\n",
    "$clientID = '3fbb68ad-a29b-4c79-a709-8922e1a672f0' # Enterprise Application Client ID\n",
    "$tenantId = 'cc140c86-814b-4468-b4f4-b4147ab5fe25' # Tenant ID\n",
    "\n",
    "$look_back_date = Get-Date ((Get-Date).AddDays( $( 0 - $timeframe_to_investigate) )) -Format 'yyyy-MM-dd'"
   ]
  },
  {
   "cell_type": "markdown",
   "metadata": {},
   "source": [
    "## <font style=\"color: green\">Sign-in into the tenant</font>\n",
    "\n",
    "We can use any account which is present in the tenant and had been assigned to the enterprise application\n",
    "\n",
    "If this account is a Guest and MFA is enforced, we'll need to sign-in interactively and complete the MFA requirements"
   ]
  },
  {
   "cell_type": "code",
   "execution_count": null,
   "metadata": {
    "dotnet_interactive": {
     "language": "pwsh"
    },
    "polyglot_notebook": {
     "kernelName": "pwsh"
    }
   },
   "outputs": [],
   "source": [
    "# Disconnect-Graph | Out-Null\n",
    "Connect-Defender -TenantId $tenantId -ClientID $clientID -PassThru | Format-List"
   ]
  },
  {
   "cell_type": "markdown",
   "metadata": {},
   "source": [
    "# <font style=\"color: red\">Incident enrichment</font>"
   ]
  },
  {
   "cell_type": "markdown",
   "metadata": {},
   "source": [
    "## <font style=\"color: green\">Get incidents</font>"
   ]
  },
  {
   "cell_type": "code",
   "execution_count": null,
   "metadata": {
    "dotnet_interactive": {
     "language": "pwsh"
    },
    "polyglot_notebook": {
     "kernelName": "pwsh"
    }
   },
   "outputs": [],
   "source": [
    "$incidents = $null\n",
    "$incidents = try { Get-MgSecurityIncident -ExpandProperty Alerts -Filter \"Status ne 'resolved' and Severity in ('medium', 'high') and CreatedDateTime ge $look_back_date\" -ErrorAction Stop } catch { Write-Error \"Failed to retrieve incidents: $_\"; $error.Clear(); $null }\n",
    "Write-Host \"Incident count: $($incidents.count)\""
   ]
  },
  {
   "cell_type": "markdown",
   "metadata": {},
   "source": [
    "## <font style=\"color: green\">Get incident details from alerts</font>"
   ]
  },
  {
   "cell_type": "markdown",
   "metadata": {},
   "source": [
    "### <font style=\"color: blue\">Enrich with alert information</font>"
   ]
  },
  {
   "cell_type": "code",
   "execution_count": null,
   "metadata": {
    "dotnet_interactive": {
     "language": "pwsh"
    },
    "polyglot_notebook": {
     "kernelName": "pwsh"
    }
   },
   "outputs": [],
   "source": [
    "Write-Output \"Incident count: $($incidents.Count)\"\n",
    "\n",
    "$swIncidents = [System.Collections.Specialized.OrderedDictionary]::new()\n",
    "\n",
    "# iterate over the incidents (TEMPORARY ONLY SELECTING THE FIRST)\n",
    "foreach ( $incident in ($incidents <#| Where-Object {$_.AssignedTo -eq $me.mail}#> )) {\n",
    "    # create and build our \"switch-incident\" object\n",
    "    $swIncident = @{}\n",
    "    $swIncident.incId = $incident.Id\n",
    "    $swIncident.incSev = $incident.Severity\n",
    "    $swIncident.incTitle = $incident.DisplayName\n",
    "    $swIncident.AlertCount = $incident.Alerts.Count\n",
    "    $swIncident.Created = $incident.CreatedDateTime\n",
    "    $swIncident.CustomTags = $incident.customTags\n",
    "    $swIncident.AssignedTo = $incident.assignedTo\n",
    "\n",
    "    # get the alert(s) of the indcident (THIS WAS NOT TESTED WITH MULTIPLE ALERTS in one incident)\n",
    "    $alerts = foreach ($aId in $incident.Alerts.id) { Get-MgSecurityAlertV2 -AlertId $aId }\n",
    "    Write-Output \"Alert count: $($alerts.Count)\"\n",
    "\n",
    "    # iterate over the alerts\n",
    "    foreach ($alert in $alerts) {\n",
    "\n",
    "        # extent our incident object further\n",
    "        $swIncident.AlertTitle = $alert.Title\n",
    "\n",
    "        # different logic depeding on the DetectorId in question\n",
    "        switch ($alert.DetectorId) {\n",
    "            'b8f6b088-5487-4c70-037c-08d8d71a43fe' {<# Email messages removed after delivery#>}\n",
    "            default {\n",
    "                #Write-Output \"Evidence count: $($alert.Evidence.Count)\"\n",
    "                Foreach($ev in $alert.Evidence){\n",
    "                    $evOb = [pscustomobject][hashtable]($ev.AdditionalProperties)\n",
    "                    switch ($evOb.'@odata.type') {\n",
    "                        \"#microsoft.graph.security.userEvidence\" { $swIncident.dUPN = $evOb.userAccount.userPrincipalName;\n",
    "                            $swIncident.AccountObjectId = $evOb.userAccount.azureAdUserId;}\n",
    "                        \"#microsoft.graph.security.ipEvidence\" { $swIncident.dIP = $evOb.IPAddress }\n",
    "                        \"#microsoft.graph.security.cloudLogonRequestEvidence\" { $swIncident.dRequestId = $evOb.requestId}\n",
    "                        \"#microsoft.graph.security.cloudApplicationEvidence\" { $swIncident.dSource = $evOb.displayName }\n",
    "                        \"#microsoft.graph.security.fileEvidence\" { $swIncident.fileSHA256 = $evOb.fileDetails.sha256; $swIncident.fileName = $evOb.fileDetails.fileName }\n",
    "                        \"#microsoft.graph.security.urlEvidence\" { $swIncident.dURL = $evOb.url.replace(\":\",\"_\")}\n",
    "                        \"#microsoft.graph.security.deviceEvidence\" { $swIncident.mdeID = $evOb.mdeDeviceId; $swIncident.device = $evOb.deviceDnsName}\n",
    "                        \"#microsoft.graph.security.mailboxEvidence\" {  \n",
    "                            $swIncident.MB_primaryAddress = $evOb.primaryAddress;\n",
    "                        }\n",
    "                        \"#microsoft.graph.security.analyzedMessageEvidence\" {  \n",
    "                            $swIncident.ME_deliveryLocation = $evOb.deliveryLocation;\n",
    "                            $swIncident.ME_deliveryAction = $evOb.deliveryAction;\n",
    "                            $swIncident.ME_Verdict = $ev.Verdict; \n",
    "                            $swIncident.ME_threats = $evOb.threats;\n",
    "                            $swIncident.ME_CreatedDateTime = $evOb.CreatedDateTime; \n",
    "                            $swIncident.ME_receivedDateTime = $evOb.receivedDateTime;\n",
    "                            $swIncident.ME_senderIp = $evOb.senderIp;\n",
    "                            $swIncident.ME_subject = $evOb.subject;\n",
    "                            $swIncident.ME_networkMessageId = $evOb.networkMessageId;\n",
    "                            $swIncident.dURL = $evOb.urls | foreach-object { $_.replace(\":\",\"_\") };\n",
    "                        }\n",
    "\n",
    "\n",
    "                        \"#microsoft.graph.security.processEvidence\" {}\n",
    "                        \n",
    "                        \n",
    "                        \"#microsoft.graph.security.mailClusterEvidence\" { <# This type can have many #>}\n",
    "                        default { \"$($alert.DetectorId)`t$($evOb.'@odata.type')\" }\n",
    "                    }\n",
    "\n",
    "                }\n",
    "            }\n",
    "        }\n",
    "        if ($swIncident.dUPN) {\n",
    "            $sortUPN = $swIncident.dUPN.Split('@')[0]\n",
    "        \n",
    "            $user = Get-MgUser -Filter \"userPrincipalName eq '$($swIncident.dUPN)'\" -Select OnPremisesExtensionAttributes, Id, DisplayName, mail, userPrincipalName, EmployeeType\n",
    "            if ($user) {\n",
    "        \n",
    "                if ($user.OnPremisesExtensionAttributes.ExtensionAttribute1){\n",
    "                    if ( $user.OnPremisesExtensionAttributes.ExtensionAttribute1 -eq 'H' ) { $swIncident.dAccountType = \"Faculty\" }\n",
    "                    elseif ( $user.OnPremisesExtensionAttributes.ExtensionAttribute1 -eq 'C' ) { $swIncident.dAccountType = \"Student\" }\n",
    "                    elseif ( $( try { $user.OnPremisesExtensionAttributes.ExtensionAttribute1.Contains(',') } catch {$false} )  ) {$swIncident.dAccountType = \"Faculty, Student\"}\n",
    "                } else { \n",
    "                    if ( $user.EmployeeType -eq 'H' ) { $swIncident.dAccountType = \"Faculty\" }\n",
    "                    elseif ( $user.EmployeeType -eq 'C' ) { $swIncident.dAccountType = \"Student\" }\n",
    "                    elseif ( ((Invoke-GraphRequest -Uri \"/v1.0/users/$($user.Id)/memberOf\" -Method Get).Value.onPremisesSamAccountName -match \"for_faculty\").count -gt 0 ) { $swIncident.dAccountType = \"Faculty\" }\n",
    "                    else { Write-Warning \"$($swIncident.dUPN) has no ExtensionAttribute1\" }\n",
    "                }\n",
    "                #if ( $sortUPN.length -eq 4 ) { $swIncident.dAccountType = \"Faculty\" }\n",
    "                #elseif ( ($sortUPN.length -eq 6 -or $sortUPN.length -eq 7) -and $(try{ [int]$sortUPN.Substring(5) -is [int] } catch {$false}) ) { $swIncident.dAccountType = \"Student\" }\n",
    "                #elseif ( $sortUPN.startswith('adm-')) { $swIncident.dAccountType = \"Admin\" }\n",
    "                #else { $swIncident.dAccountType = \"ServiceAccount\" }\n",
    "                \n",
    "                $swIncident.dMail = $user.mail\n",
    "            } else {\n",
    "                $user = Get-MgUser -Filter \"mail eq '$($swIncident.dUPN)'\" -Select OnPremisesExtensionAttributes, Id, DisplayName, mail, userPrincipalName, EmployeeType\n",
    "                \n",
    "                if ($user) {\n",
    "                    if ( $sortUPN.length -eq 4 ) { $swIncident.dAccountType = \"Faculty\" }\n",
    "                    elseif ( ($sortUPN.length -eq 6 -or $sortUPN.length -eq 7) -and $(try{ [int]$sortUPN.Substring(5) -is [int] } catch {$false}) ) { $swIncident.dAccountType = \"Student\" }\n",
    "                    elseif ( $sortUPN.startswith('adm-')) { $swIncident.dAccountType = \"Admin\" }\n",
    "                    elseif ( $user.UserPrincipalName.contains('#EXT#@')) { $swIncident.dAccountType = \"Guest\" }\n",
    "                    \n",
    "                    $swIncident.dMail = $user.mail\n",
    "                }\n",
    "            }\n",
    "        }\n",
    "    }\n",
    "    $swIncidents.Add($swIncident.incId,[pscustomobject]$swIncident)\n",
    "}"
   ]
  },
  {
   "cell_type": "markdown",
   "metadata": {},
   "source": [
    "### <font style=\"color: blue\">Enrich with IP information</font>"
   ]
  },
  {
   "cell_type": "markdown",
   "metadata": {},
   "source": [
    "> As `Get-IPRiskDetails` is not implemented here we can't run the next block. Hence the `while ($false)` block"
   ]
  },
  {
   "cell_type": "code",
   "execution_count": null,
   "metadata": {
    "dotnet_interactive": {
     "language": "pwsh"
    },
    "polyglot_notebook": {
     "kernelName": "pwsh"
    }
   },
   "outputs": [],
   "source": [
    "while ($false){\n",
    "    ## enrich IPAddress\n",
    "    if ($swIncidents.count -gt 0) {\n",
    "        foreach( $incident in $swIncidents.Values.GetEnumerator() ) {\n",
    "            $ipx = ''\n",
    "            $vpnProvider = ''\n",
    "            if ( $incident.dIP ) {\n",
    "                $ipDetails = Get-IPRiskDetails $incident.dIP\n",
    "                if (Test-KnownVPN $ipDetails) {$vpnProvider = $ipDetails.organization.Replace(\" \",'')}\n",
    "                if ($ipDetails.proxy -eq 'True') { $ipx += \"P\" } else { $ipx += \".\" }\n",
    "                if ($ipDetails.tor -eq 'True') { $ipx += \"T\" } else { $ipx += \".\" }\n",
    "                if ($ipDetails.vpn -eq 'True') { $ipx += \"V\" } else { $ipx += \".\" }\n",
    "            }\n",
    "            \n",
    "            try { Add-Member -InputObject $incident -Name \"xIP\" -Value $ipx -MemberType NoteProperty -Force }\n",
    "            catch {}\n",
    "            try { Add-Member -InputObject $incident -Name \"xVPN\" -Value $vpnProvider -MemberType NoteProperty -Force }\n",
    "            catch {}\n",
    "        }\n",
    "    } else {\n",
    "        Write-Warning \"No incidents found\"\n",
    "    }\n",
    "}"
   ]
  },
  {
   "cell_type": "code",
   "execution_count": null,
   "metadata": {
    "dotnet_interactive": {
     "language": "pwsh"
    },
    "polyglot_notebook": {
     "kernelName": "pwsh"
    }
   },
   "outputs": [],
   "source": [
    "# Print incident details\n",
    "# $swIncidents.Values.GetEnumerator() | Format-list  incId, ME_Verdict, dAccountType, dIP, xIP, incTitle\n",
    " $swIncidents.Values.GetEnumerator() | Format-table incId, ME_Verdict, dAccountType, dIP, xIP, incTitle"
   ]
  },
  {
   "cell_type": "markdown",
   "metadata": {},
   "source": [
    "### <font style=\"color: blue\">Tag the incidents</font>"
   ]
  },
  {
   "cell_type": "code",
   "execution_count": null,
   "metadata": {
    "dotnet_interactive": {
     "language": "pwsh"
    },
    "polyglot_notebook": {
     "kernelName": "pwsh"
    }
   },
   "outputs": [],
   "source": [
    "\n",
    "Set-incidentTags"
   ]
  },
  {
   "cell_type": "markdown",
   "metadata": {},
   "source": [
    "# <font style=\"color: Red\">Process incidents</font>\n",
    "\n",
    "Call nested notebooks"
   ]
  },
  {
   "cell_type": "markdown",
   "metadata": {},
   "source": [
    "## <font style=\"color: green\">Convert incidents</font>"
   ]
  },
  {
   "cell_type": "code",
   "execution_count": null,
   "metadata": {
    "dotnet_interactive": {
     "language": "pwsh"
    },
    "polyglot_notebook": {
     "kernelName": "pwsh"
    }
   },
   "outputs": [],
   "source": [
    "$me = Invoke-MgGraphRequest -Method GET -Uri /v1.0/me | Select-Object -Property id, displayName, userPrincipalName, mail\n",
    "$converted = ($swIncidents.Values.GetEnumerator()) | ConvertTo-Json"
   ]
  },
  {
   "cell_type": "markdown",
   "metadata": {},
   "source": [
    "## <font style=\"color: green\">Call nested notebooks</font>"
   ]
  },
  {
   "cell_type": "markdown",
   "metadata": {},
   "source": [
    "### <font style=\"color: blue\">Anomalous Token involving one user (Student)</font>"
   ]
  },
  {
   "cell_type": "code",
   "execution_count": null,
   "metadata": {
    "dotnet_interactive": {
     "language": "pwsh"
    },
    "polyglot_notebook": {
     "kernelName": "pwsh"
    }
   },
   "outputs": [],
   "source": [
    "$nested_anonTokenNotebook = Join-Path $pwd 'nested-notebooks' 'exclude-all-anonym-ip.ipynb'\n",
    "Invoke-ExecuteNotebook $nested_anonTokenNotebook -Parameters @{arr = $converted; me = $me}"
   ]
  },
  {
   "cell_type": "markdown",
   "metadata": {},
   "source": [
    "### <font style=\"color: blue\">Anonymous IP address involving one user (Student)</font>\n",
    "\n",
    "#### <font style=\"color:red\">Not implemented</font>"
   ]
  },
  {
   "cell_type": "code",
   "execution_count": null,
   "metadata": {
    "dotnet_interactive": {
     "language": "pwsh"
    },
    "polyglot_notebook": {
     "kernelName": "pwsh"
    }
   },
   "outputs": [],
   "source": [
    "$nested_anonTokenNotebook = Join-Path $pwd 'nested-notebooks' 'exclude-anonym-ip.ipynb'\n",
    "Invoke-ExecuteNotebook $nested_anonTokenNotebook -Parameters @{arr = $converted; me = $me}"
   ]
  },
  {
   "cell_type": "markdown",
   "metadata": {},
   "source": [
    "### <font style=\"color: blue\">Activity from an anonymous proxy involving one user (Student)</font>\n",
    "\n",
    "#### <font style=\"color:red\">Not implemented</font>"
   ]
  },
  {
   "cell_type": "code",
   "execution_count": null,
   "metadata": {
    "dotnet_interactive": {
     "language": "pwsh"
    },
    "polyglot_notebook": {
     "kernelName": "pwsh"
    }
   },
   "outputs": [],
   "source": [
    "$nested_anonTokenNotebook = Join-Path $pwd 'nested-notebooks' 'exclude-anonym-proxy.ipynb'\n",
    "Invoke-ExecuteNotebook $nested_anonTokenNotebook -Parameters @{arr = $converted; me = $me}"
   ]
  }
 ],
 "metadata": {
  "kernelspec": {
   "display_name": ".NET (C#)",
   "language": "C#",
   "name": ".net-csharp"
  },
  "language_info": {
   "name": "polyglot-notebook"
  },
  "polyglot_notebook": {
   "kernelInfo": {
    "defaultKernelName": "csharp",
    "items": [
     {
      "aliases": [],
      "name": "csharp"
     }
    ]
   }
  }
 },
 "nbformat": 4,
 "nbformat_minor": 2
}
